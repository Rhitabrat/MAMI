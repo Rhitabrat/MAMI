{
  "cells": [
    {
      "cell_type": "markdown",
      "metadata": {
        "id": "view-in-github",
        "colab_type": "text"
      },
      "source": [
        "<a href=\"https://colab.research.google.com/github/Rhitabrat/MAMI/blob/main/Text%20plus%20Visual%20Embeddings/image_text_from_baseline.ipynb\" target=\"_parent\"><img src=\"https://colab.research.google.com/assets/colab-badge.svg\" alt=\"Open In Colab\"/></a>"
      ]
    },
    {
      "cell_type": "markdown",
      "metadata": {
        "id": "LEbvOBvNzSJP"
      },
      "source": [
        "Generate baseline for image plus text data"
      ]
    },
    {
      "cell_type": "code",
      "source": [
        "from google.colab import drive\n",
        "drive.mount('/content/drive')"
      ],
      "metadata": {
        "id": "6_QQWKnczWhi",
        "outputId": "f45e8b11-022b-46d5-a537-c7055adcb122",
        "colab": {
          "base_uri": "https://localhost:8080/"
        }
      },
      "execution_count": 1,
      "outputs": [
        {
          "output_type": "stream",
          "name": "stdout",
          "text": [
            "Mounted at /content/drive\n"
          ]
        }
      ]
    },
    {
      "cell_type": "code",
      "source": [
        "'''\n",
        "requires the same folder:\n",
        "- script evaluation\n",
        "-folder 'ref' with truth.txt\n",
        "-folder 'TRAINING' with images\n",
        "'''\n",
        "\n",
        "# import evaluation\n",
        "import pandas as pd\n",
        "import tensorflow_hub as hub\n",
        "import tensorflow as tf\n",
        "import numpy as np\n",
        "import keras\n",
        "import tensorflow.keras.layers as layers\n",
        "from tensorflow.keras.models import Model\n",
        "from tensorflow.keras.preprocessing.image import load_img, img_to_array\n",
        "from tensorflow.keras.applications.vgg16 import VGG16\n",
        "from tensorflow.keras import regularizers\n",
        "import os\n",
        "import gc\n",
        "import shutil \n"
      ],
      "metadata": {
        "id": "uTC8UnjAzX0S"
      },
      "execution_count": 2,
      "outputs": []
    },
    {
      "cell_type": "code",
      "source": [
        "# paths\n",
        "csv_path_test = '/content/drive/MyDrive/PSU/NLP Lab/MAMI/TEST/CSV/Test.csv'\n",
        "csv_path_train = '/content/drive/MyDrive/PSU/NLP Lab/MAMI/TRAIN/CSVs/training_original.csv'\n",
        "image_path = '/content/drive/MyDrive/PSU/NLP Lab/MAMI/TRAIN/Images'\n",
        "\n",
        "\n",
        "def loadImage(image_path):\n",
        "    try:\n",
        "        return load_img(image_path, target_size=(image_size, image_size))\n",
        "    except:\n",
        "        image_path = image_path.replace('png', 'jpg')\n",
        "        return load_img(image_path, target_size=(image_size, image_size))\n",
        "\n",
        "# if not os.path.exists('./ImageTextModel'):\n",
        "    # os.makedirs('./ImageTextModel')\n",
        "\n",
        "if not os.path.exists('/content/drive/MyDrive/PSU/NLP Lab/MAMI/Saved Models/ImageTextModel'):\n",
        "    os.makedirs('/content/drive/MyDrive/PSU/NLP Lab/MAMI/Saved Models/ImageTextModel')\n",
        "    \n",
        "batch_size = 32\n",
        "epochs = 50\n",
        "image_size = 224\n",
        "embed_size = 768 #according to USE\n",
        "threshold = 0.5\n",
        "\n",
        "#Universal Sentence Encoder\n",
        "tf.compat.v1.disable_eager_execution()\n",
        "\n",
        "module_url = \"https://tfhub.dev/google/universal-sentence-encoder-large/3?tf-hub-format=compressed\"\n",
        "# module_url = \"https://tfhub.dev/tensorflow/bert_en_uncased_L-12_H-768_A-12/4?tf-hub-format=compressed\"\n",
        "embed = hub.Module(module_url)"
      ],
      "metadata": {
        "id": "6biQ6eIzzeCs"
      },
      "execution_count": 11,
      "outputs": []
    },
    {
      "cell_type": "code",
      "source": [
        "\n",
        "#_______________________________Load Train Data_______________________________\n",
        "train_df = pd.read_csv(csv_path_train, usecols=['file_name', 'misogynous', 'Text Transcription'], sep='\\t')\n",
        "path = image_path+'/'\n",
        "\n",
        "train_df['image_path'] = path + train_df['file_name']\n",
        "\n",
        "# Universal Sentence Encoder (USE)\n",
        "'''\n",
        "Split the dataset to avoid hitting the USE call limit\n",
        "an error occurs if the 47900 steps are reached\n",
        "'''\n",
        "dfs = np.array_split(train_df, 10)\n",
        "train_df['USE'] = None\n",
        "text_embeddings=[]\n",
        "with tf.compat.v1.Session() as session:\n",
        "    session.run([tf.compat.v1.global_variables_initializer(), tf.compat.v1.tables_initializer()])\n",
        "   \n",
        "    for x in dfs:\n",
        "      x_data_matches = pd.Series([])\n",
        "      text_embedding = session.run(embed(list(x['Text Transcription'])))\n",
        "      text_embeddings = text_embeddings + np.array(text_embedding).tolist()\n",
        "      \n",
        "train_df['USE'] = text_embeddings\n",
        "\n",
        "#load images\n",
        "train_df['image'] = None\n",
        "train_df['image'] = train_df['image_path'].apply(lambda x: img_to_array(loadImage(x)))        \n",
        "\n",
        "#division and processing of data as input to the model\n",
        "X_train = train_df[['file_name', 'USE', 'image']]\n",
        "y_train = train_df['misogynous']\n",
        "\n",
        "#text\n",
        "tmp = []\n",
        "for value in X_train['USE']:\n",
        "    tmp.append([value])  \n",
        "tX_train = np.array(tmp)\n",
        "\n",
        "#images\n",
        "tmp = []\n",
        "for value in X_train['image']:\n",
        "  tmp.append(value) \n",
        "iX_train = np.array(tmp)\n",
        "\n",
        "#misogynous label\n",
        "tmp = []\n",
        "for value in y_train:\n",
        "    tmp.append([value])  \n",
        "y_train = np.array(tmp)\n",
        "\n",
        "#clear memory\n",
        "del train_df\n",
        "del dfs\n",
        "del text_embedding\n",
        "del text_embeddings\n",
        "\n",
        "gc.collect()\n",
        "\n"
      ],
      "metadata": {
        "id": "83cnwG2BzeEh",
        "outputId": "b4f4d2c8-a550-4b5c-a2c2-f3f89c8b8a15",
        "colab": {
          "base_uri": "https://localhost:8080/",
          "height": 693
        }
      },
      "execution_count": 9,
      "outputs": [
        {
          "output_type": "stream",
          "name": "stderr",
          "text": [
            "/usr/local/lib/python3.7/dist-packages/ipykernel_launcher.py:20: DeprecationWarning: The default dtype for empty Series will be 'object' instead of 'float64' in a future version. Specify a dtype explicitly to silence this warning.\n"
          ]
        },
        {
          "output_type": "error",
          "ename": "TypeError",
          "evalue": "ignored",
          "traceback": [
            "\u001b[0;31m---------------------------------------------------------------------------\u001b[0m",
            "\u001b[0;31mTypeError\u001b[0m                                 Traceback (most recent call last)",
            "\u001b[0;32m<ipython-input-9-f58021e03184>\u001b[0m in \u001b[0;36m<module>\u001b[0;34m()\u001b[0m\n\u001b[1;32m     19\u001b[0m     \u001b[0;32mfor\u001b[0m \u001b[0mx\u001b[0m \u001b[0;32min\u001b[0m \u001b[0mdfs\u001b[0m\u001b[0;34m:\u001b[0m\u001b[0;34m\u001b[0m\u001b[0;34m\u001b[0m\u001b[0m\n\u001b[1;32m     20\u001b[0m       \u001b[0mx_data_matches\u001b[0m \u001b[0;34m=\u001b[0m \u001b[0mpd\u001b[0m\u001b[0;34m.\u001b[0m\u001b[0mSeries\u001b[0m\u001b[0;34m(\u001b[0m\u001b[0;34m[\u001b[0m\u001b[0;34m]\u001b[0m\u001b[0;34m)\u001b[0m\u001b[0;34m\u001b[0m\u001b[0;34m\u001b[0m\u001b[0m\n\u001b[0;32m---> 21\u001b[0;31m       \u001b[0mtext_embedding\u001b[0m \u001b[0;34m=\u001b[0m \u001b[0msession\u001b[0m\u001b[0;34m.\u001b[0m\u001b[0mrun\u001b[0m\u001b[0;34m(\u001b[0m\u001b[0membed\u001b[0m\u001b[0;34m(\u001b[0m\u001b[0mlist\u001b[0m\u001b[0;34m(\u001b[0m\u001b[0mx\u001b[0m\u001b[0;34m[\u001b[0m\u001b[0;34m'Text Transcription'\u001b[0m\u001b[0;34m]\u001b[0m\u001b[0;34m)\u001b[0m\u001b[0;34m)\u001b[0m\u001b[0;34m)\u001b[0m\u001b[0;34m\u001b[0m\u001b[0;34m\u001b[0m\u001b[0m\n\u001b[0m\u001b[1;32m     22\u001b[0m       \u001b[0mtext_embeddings\u001b[0m \u001b[0;34m=\u001b[0m \u001b[0mtext_embeddings\u001b[0m \u001b[0;34m+\u001b[0m \u001b[0mnp\u001b[0m\u001b[0;34m.\u001b[0m\u001b[0marray\u001b[0m\u001b[0;34m(\u001b[0m\u001b[0mtext_embedding\u001b[0m\u001b[0;34m)\u001b[0m\u001b[0;34m.\u001b[0m\u001b[0mtolist\u001b[0m\u001b[0;34m(\u001b[0m\u001b[0;34m)\u001b[0m\u001b[0;34m\u001b[0m\u001b[0;34m\u001b[0m\u001b[0m\n\u001b[1;32m     23\u001b[0m \u001b[0;34m\u001b[0m\u001b[0m\n",
            "\u001b[0;32m/usr/local/lib/python3.7/dist-packages/keras/engine/base_layer_v1.py\u001b[0m in \u001b[0;36m__call__\u001b[0;34m(self, *args, **kwargs)\u001b[0m\n\u001b[1;32m    809\u001b[0m           with autocast_variable.enable_auto_cast_variables(\n\u001b[1;32m    810\u001b[0m               self._compute_dtype_object):\n\u001b[0;32m--> 811\u001b[0;31m             \u001b[0moutputs\u001b[0m \u001b[0;34m=\u001b[0m \u001b[0mself\u001b[0m\u001b[0;34m.\u001b[0m\u001b[0mcall\u001b[0m\u001b[0;34m(\u001b[0m\u001b[0mcast_inputs\u001b[0m\u001b[0;34m,\u001b[0m \u001b[0;34m*\u001b[0m\u001b[0margs\u001b[0m\u001b[0;34m,\u001b[0m \u001b[0;34m**\u001b[0m\u001b[0mkwargs\u001b[0m\u001b[0;34m)\u001b[0m\u001b[0;34m\u001b[0m\u001b[0;34m\u001b[0m\u001b[0m\n\u001b[0m\u001b[1;32m    812\u001b[0m           \u001b[0mself\u001b[0m\u001b[0;34m.\u001b[0m\u001b[0m_handle_activity_regularization\u001b[0m\u001b[0;34m(\u001b[0m\u001b[0minputs\u001b[0m\u001b[0;34m,\u001b[0m \u001b[0moutputs\u001b[0m\u001b[0;34m)\u001b[0m\u001b[0;34m\u001b[0m\u001b[0;34m\u001b[0m\u001b[0m\n\u001b[1;32m    813\u001b[0m           \u001b[0mself\u001b[0m\u001b[0;34m.\u001b[0m\u001b[0m_set_mask_metadata\u001b[0m\u001b[0;34m(\u001b[0m\u001b[0minputs\u001b[0m\u001b[0;34m,\u001b[0m \u001b[0moutputs\u001b[0m\u001b[0;34m,\u001b[0m \u001b[0minput_masks\u001b[0m\u001b[0;34m)\u001b[0m\u001b[0;34m\u001b[0m\u001b[0;34m\u001b[0m\u001b[0m\n",
            "\u001b[0;32m/usr/local/lib/python3.7/dist-packages/tensorflow_hub/keras_layer.py\u001b[0m in \u001b[0;36mcall\u001b[0;34m(self, inputs, training)\u001b[0m\n\u001b[1;32m    227\u001b[0m     \u001b[0;31m# or else Keras' global `learning_phase`, which might actually be a tensor.\u001b[0m\u001b[0;34m\u001b[0m\u001b[0;34m\u001b[0m\u001b[0;34m\u001b[0m\u001b[0m\n\u001b[1;32m    228\u001b[0m     \u001b[0;32mif\u001b[0m \u001b[0;32mnot\u001b[0m \u001b[0mself\u001b[0m\u001b[0;34m.\u001b[0m\u001b[0m_has_training_argument\u001b[0m\u001b[0;34m:\u001b[0m\u001b[0;34m\u001b[0m\u001b[0;34m\u001b[0m\u001b[0m\n\u001b[0;32m--> 229\u001b[0;31m       \u001b[0mresult\u001b[0m \u001b[0;34m=\u001b[0m \u001b[0mf\u001b[0m\u001b[0;34m(\u001b[0m\u001b[0;34m)\u001b[0m\u001b[0;34m\u001b[0m\u001b[0;34m\u001b[0m\u001b[0m\n\u001b[0m\u001b[1;32m    230\u001b[0m     \u001b[0;32melse\u001b[0m\u001b[0;34m:\u001b[0m\u001b[0;34m\u001b[0m\u001b[0;34m\u001b[0m\u001b[0m\n\u001b[1;32m    231\u001b[0m       \u001b[0;32mif\u001b[0m \u001b[0mself\u001b[0m\u001b[0;34m.\u001b[0m\u001b[0mtrainable\u001b[0m\u001b[0;34m:\u001b[0m\u001b[0;34m\u001b[0m\u001b[0;34m\u001b[0m\u001b[0m\n",
            "\u001b[0;32m/usr/local/lib/python3.7/dist-packages/tensorflow/python/eager/function.py\u001b[0m in \u001b[0;36m__call__\u001b[0;34m(self, *args, **kwargs)\u001b[0m\n\u001b[1;32m   1705\u001b[0m       \u001b[0mTypeError\u001b[0m\u001b[0;34m:\u001b[0m \u001b[0mIf\u001b[0m \u001b[0mthe\u001b[0m \u001b[0marguments\u001b[0m \u001b[0mdo\u001b[0m \u001b[0;32mnot\u001b[0m \u001b[0mmatch\u001b[0m \u001b[0mthe\u001b[0m \u001b[0mfunction\u001b[0m\u001b[0;31m'\u001b[0m\u001b[0ms\u001b[0m \u001b[0msignature\u001b[0m\u001b[0;34m.\u001b[0m\u001b[0;34m\u001b[0m\u001b[0;34m\u001b[0m\u001b[0m\n\u001b[1;32m   1706\u001b[0m     \"\"\"\n\u001b[0;32m-> 1707\u001b[0;31m     \u001b[0;32mreturn\u001b[0m \u001b[0mself\u001b[0m\u001b[0;34m.\u001b[0m\u001b[0m_call_impl\u001b[0m\u001b[0;34m(\u001b[0m\u001b[0margs\u001b[0m\u001b[0;34m,\u001b[0m \u001b[0mkwargs\u001b[0m\u001b[0;34m)\u001b[0m\u001b[0;34m\u001b[0m\u001b[0;34m\u001b[0m\u001b[0m\n\u001b[0m\u001b[1;32m   1708\u001b[0m \u001b[0;34m\u001b[0m\u001b[0m\n\u001b[1;32m   1709\u001b[0m   \u001b[0;32mdef\u001b[0m \u001b[0m_call_impl\u001b[0m\u001b[0;34m(\u001b[0m\u001b[0mself\u001b[0m\u001b[0;34m,\u001b[0m \u001b[0margs\u001b[0m\u001b[0;34m,\u001b[0m \u001b[0mkwargs\u001b[0m\u001b[0;34m,\u001b[0m \u001b[0mcancellation_manager\u001b[0m\u001b[0;34m=\u001b[0m\u001b[0;32mNone\u001b[0m\u001b[0;34m)\u001b[0m\u001b[0;34m:\u001b[0m\u001b[0;34m\u001b[0m\u001b[0;34m\u001b[0m\u001b[0m\n",
            "\u001b[0;32m/usr/local/lib/python3.7/dist-packages/tensorflow/python/eager/wrap_function.py\u001b[0m in \u001b[0;36m_call_impl\u001b[0;34m(self, args, kwargs, cancellation_manager)\u001b[0m\n\u001b[1;32m    247\u001b[0m     \u001b[0;32melse\u001b[0m\u001b[0;34m:\u001b[0m\u001b[0;34m\u001b[0m\u001b[0;34m\u001b[0m\u001b[0m\n\u001b[1;32m    248\u001b[0m       return super(WrappedFunction, self)._call_impl(\n\u001b[0;32m--> 249\u001b[0;31m           args, kwargs, cancellation_manager)\n\u001b[0m\u001b[1;32m    250\u001b[0m \u001b[0;34m\u001b[0m\u001b[0m\n\u001b[1;32m    251\u001b[0m   \u001b[0;32mdef\u001b[0m \u001b[0mprune\u001b[0m\u001b[0;34m(\u001b[0m\u001b[0mself\u001b[0m\u001b[0;34m,\u001b[0m \u001b[0mfeeds\u001b[0m\u001b[0;34m,\u001b[0m \u001b[0mfetches\u001b[0m\u001b[0;34m,\u001b[0m \u001b[0mname\u001b[0m\u001b[0;34m=\u001b[0m\u001b[0;32mNone\u001b[0m\u001b[0;34m,\u001b[0m \u001b[0minput_signature\u001b[0m\u001b[0;34m=\u001b[0m\u001b[0;32mNone\u001b[0m\u001b[0;34m)\u001b[0m\u001b[0;34m:\u001b[0m\u001b[0;34m\u001b[0m\u001b[0;34m\u001b[0m\u001b[0m\n",
            "\u001b[0;32m/usr/local/lib/python3.7/dist-packages/tensorflow/python/eager/function.py\u001b[0m in \u001b[0;36m_call_impl\u001b[0;34m(self, args, kwargs, cancellation_manager)\u001b[0m\n\u001b[1;32m   1723\u001b[0m             \u001b[0;32mraise\u001b[0m \u001b[0mstructured_err\u001b[0m\u001b[0;34m\u001b[0m\u001b[0;34m\u001b[0m\u001b[0m\n\u001b[1;32m   1724\u001b[0m \u001b[0;34m\u001b[0m\u001b[0m\n\u001b[0;32m-> 1725\u001b[0;31m       \u001b[0;32mreturn\u001b[0m \u001b[0mself\u001b[0m\u001b[0;34m.\u001b[0m\u001b[0m_call_with_flat_signature\u001b[0m\u001b[0;34m(\u001b[0m\u001b[0margs\u001b[0m\u001b[0;34m,\u001b[0m \u001b[0mkwargs\u001b[0m\u001b[0;34m,\u001b[0m \u001b[0mcancellation_manager\u001b[0m\u001b[0;34m)\u001b[0m\u001b[0;34m\u001b[0m\u001b[0;34m\u001b[0m\u001b[0m\n\u001b[0m\u001b[1;32m   1726\u001b[0m \u001b[0;34m\u001b[0m\u001b[0m\n\u001b[1;32m   1727\u001b[0m   \u001b[0;32mdef\u001b[0m \u001b[0m_call_with_flat_signature\u001b[0m\u001b[0;34m(\u001b[0m\u001b[0mself\u001b[0m\u001b[0;34m,\u001b[0m \u001b[0margs\u001b[0m\u001b[0;34m,\u001b[0m \u001b[0mkwargs\u001b[0m\u001b[0;34m,\u001b[0m \u001b[0mcancellation_manager\u001b[0m\u001b[0;34m)\u001b[0m\u001b[0;34m:\u001b[0m\u001b[0;34m\u001b[0m\u001b[0;34m\u001b[0m\u001b[0m\n",
            "\u001b[0;32m/usr/local/lib/python3.7/dist-packages/tensorflow/python/eager/function.py\u001b[0m in \u001b[0;36m_call_with_flat_signature\u001b[0;34m(self, args, kwargs, cancellation_manager)\u001b[0m\n\u001b[1;32m   1769\u001b[0m       if not isinstance(\n\u001b[1;32m   1770\u001b[0m           arg, (ops.Tensor, resource_variable_ops.BaseResourceVariable)):\n\u001b[0;32m-> 1771\u001b[0;31m         raise TypeError(f\"{self._flat_signature_summary()}: expected argument \"\n\u001b[0m\u001b[1;32m   1772\u001b[0m                         \u001b[0;34mf\"#{i}(zero-based) to be a Tensor; \"\u001b[0m\u001b[0;34m\u001b[0m\u001b[0;34m\u001b[0m\u001b[0m\n\u001b[1;32m   1773\u001b[0m                         f\"got {type(arg).__name__} ({arg}).\")\n",
            "\u001b[0;31mTypeError\u001b[0m: pruned(text): expected argument #0(zero-based) to be a Tensor; got list (['Milk Milk.zip', \"ROSES ARE RED, VIOLETS ARE BLUE IF YOU DON'T SAY YES, I'LL JUST RAPE YOU quickmeme.com\", 'BREAKING NEWS: Russia releases photo of DONALD TRUMP with hooker in Russian hotel.....wait....sorry....wrong file....never mind.', 'MAN SEEKING WOMAN Ignad 18 O', \"Me explaining the deep lore of. J.R.R. Tolkein's world of Arda The prostitute I am paying to keep me company during COVID quarantine 61\", \"PICTOPHLE APP *Straight white malle starts talking *Puts headphones in â˜† ears Feminism â™¡1 Reply SWIPE UP TO VIEW 5 REPLIES Chat agtinkta mah wwiem 5.0-1 Rated Chats 2 mi away RATE THIS CHAT Today, 14:29 The headphones invented by a while male? Don't ever fucking talk to me You mean on this smartphone app that was created by a white man? Or on your phone in general (that was created by a white man)? I'm gonna call the police if you don't stop harassing me Oh ok, you mean get a white male to come help you? GIF Say something nice... DESTRUCTION 100 SEND\", 'Chinese restaurant faces closure after 30 years following complaints from leading judge, 64, and wife over cooking smells wafting into their Â£525,000 home they bought three years ago', 'YOU WERE THE CHOSEN ONE! YOU WERE MEANT TO DESTROY THE DOWNVOTERS, NOT JOIN THEM! imgflip.com', '* 84% 6:07 PM Pull start for dishwasher $19 Listed 22 hours ago Send seller a message Is this available? Send ifunny.co', 'SCIENTISTS HAVE DIS..."
          ]
        }
      ]
    },
    {
      "cell_type": "code",
      "source": [
        "#_______________________________IMAGE MODEL_______________________________\n",
        "l2_strength = 1e-5\n",
        "\n",
        "input_image = layers.Input(shape=(image_size,image_size,3))\n",
        "vgg_model = VGG16(input_tensor = input_image, weights = 'imagenet', include_top=False)\n",
        "\n",
        "for layer in vgg_model.layers:\n",
        "    layer.trainable = False\n",
        "\n",
        "x = vgg_model.output\n",
        "x = layers.Flatten(input_shape=vgg_model.output_shape[1:])(x)\n",
        "x = layers.Dense(256, activation='relu', kernel_regularizer=regularizers.l2(l2_strength))(x)\n",
        "x = layers.Dropout(0.5)(x)\n",
        "x = layers.Dense(64, activation='relu', kernel_regularizer=regularizers.l2(l2_strength))(x)\n",
        "x = layers.Dense(1, activation='sigmoid')(x)\n",
        "image_model = Model(vgg_model.input, x)\n",
        "\n",
        "image_model.compile(loss='binary_crossentropy', optimizer='adam', metrics=['accuracy'])\n",
        "image_model.summary()\n",
        "\n",
        "history = image_model.fit(iX_train, \n",
        "                    y_train,\n",
        "                    validation_split=0.1,\n",
        "                    epochs= 30,\n",
        "                    batch_size=batch_size,\n",
        "                    #verbose=0,\n",
        "                    )\n",
        "                    \n",
        "# image_model.save('/content/drive/MyDrive/PSU/NLP Lab/MAMI/Saved Models/ImageTextModel/image_model.h5')\n",
        "\n"
      ],
      "metadata": {
        "id": "NSthHOR5zeGt",
        "outputId": "c4580175-e301-40ed-b04a-b5ba3dcf9721",
        "colab": {
          "base_uri": "https://localhost:8080/"
        }
      },
      "execution_count": 47,
      "outputs": [
        {
          "output_type": "stream",
          "name": "stdout",
          "text": [
            "Model: \"model_6\"\n",
            "_________________________________________________________________\n",
            " Layer (type)                Output Shape              Param #   \n",
            "=================================================================\n",
            " input_1 (InputLayer)        [(None, 224, 224, 3)]     0         \n",
            "                                                                 \n",
            " block1_conv1 (Conv2D)       (None, 224, 224, 64)      1792      \n",
            "                                                                 \n",
            " block1_conv2 (Conv2D)       (None, 224, 224, 64)      36928     \n",
            "                                                                 \n",
            " block1_pool (MaxPooling2D)  (None, 112, 112, 64)      0         \n",
            "                                                                 \n",
            " block2_conv1 (Conv2D)       (None, 112, 112, 128)     73856     \n",
            "                                                                 \n",
            " block2_conv2 (Conv2D)       (None, 112, 112, 128)     147584    \n",
            "                                                                 \n",
            " block2_pool (MaxPooling2D)  (None, 56, 56, 128)       0         \n",
            "                                                                 \n",
            " block3_conv1 (Conv2D)       (None, 56, 56, 256)       295168    \n",
            "                                                                 \n",
            " block3_conv2 (Conv2D)       (None, 56, 56, 256)       590080    \n",
            "                                                                 \n",
            " block3_conv3 (Conv2D)       (None, 56, 56, 256)       590080    \n",
            "                                                                 \n",
            " block3_pool (MaxPooling2D)  (None, 28, 28, 256)       0         \n",
            "                                                                 \n",
            " block4_conv1 (Conv2D)       (None, 28, 28, 512)       1180160   \n",
            "                                                                 \n",
            " block4_conv2 (Conv2D)       (None, 28, 28, 512)       2359808   \n",
            "                                                                 \n",
            " block4_conv3 (Conv2D)       (None, 28, 28, 512)       2359808   \n",
            "                                                                 \n",
            " block4_pool (MaxPooling2D)  (None, 14, 14, 512)       0         \n",
            "                                                                 \n",
            " block5_conv1 (Conv2D)       (None, 14, 14, 512)       2359808   \n",
            "                                                                 \n",
            " block5_conv2 (Conv2D)       (None, 14, 14, 512)       2359808   \n",
            "                                                                 \n",
            " block5_conv3 (Conv2D)       (None, 14, 14, 512)       2359808   \n",
            "                                                                 \n",
            " block5_pool (MaxPooling2D)  (None, 7, 7, 512)         0         \n",
            "                                                                 \n",
            " flatten (Flatten)           (None, 25088)             0         \n",
            "                                                                 \n",
            " dense_8 (Dense)             (None, 256)               6422784   \n",
            "                                                                 \n",
            " dropout (Dropout)           (None, 256)               0         \n",
            "                                                                 \n",
            " dense_9 (Dense)             (None, 64)                16448     \n",
            "                                                                 \n",
            " dense_10 (Dense)            (None, 1)                 65        \n",
            "                                                                 \n",
            "=================================================================\n",
            "Total params: 21,153,985\n",
            "Trainable params: 6,439,297\n",
            "Non-trainable params: 14,714,688\n",
            "_________________________________________________________________\n",
            "Train on 9000 samples, validate on 1000 samples\n",
            "Epoch 1/30\n",
            "9000/9000 [==============================] - ETA: 0s - loss: 3.4260 - accuracy: 0.5660"
          ]
        },
        {
          "output_type": "stream",
          "name": "stderr",
          "text": [
            "/usr/local/lib/python3.7/dist-packages/keras/engine/training_v1.py:2057: UserWarning: `Model.state_updates` will be removed in a future version. This property should not be used in TensorFlow 2.0, as `updates` are applied automatically.\n",
            "  updates = self.state_updates\n"
          ]
        },
        {
          "output_type": "stream",
          "name": "stdout",
          "text": [
            "9000/9000 [==============================] - 35s 4ms/sample - loss: 3.4260 - accuracy: 0.5660 - val_loss: 0.6776 - val_accuracy: 0.5640\n",
            "Epoch 2/30\n",
            "9000/9000 [==============================] - 21s 2ms/sample - loss: 0.8286 - accuracy: 0.5932 - val_loss: 0.6623 - val_accuracy: 0.6600\n",
            "Epoch 3/30\n",
            "9000/9000 [==============================] - 21s 2ms/sample - loss: 0.6957 - accuracy: 0.6408 - val_loss: 0.7802 - val_accuracy: 0.6550\n",
            "Epoch 4/30\n",
            "9000/9000 [==============================] - 21s 2ms/sample - loss: 0.7171 - accuracy: 0.6546 - val_loss: 0.6298 - val_accuracy: 0.6690\n",
            "Epoch 5/30\n",
            "9000/9000 [==============================] - 21s 2ms/sample - loss: 0.7090 - accuracy: 0.6609 - val_loss: 0.6176 - val_accuracy: 0.6930\n",
            "Epoch 6/30\n",
            "9000/9000 [==============================] - 21s 2ms/sample - loss: 0.6525 - accuracy: 0.6777 - val_loss: 0.6475 - val_accuracy: 0.6630\n",
            "Epoch 7/30\n",
            "9000/9000 [==============================] - 21s 2ms/sample - loss: 0.6487 - accuracy: 0.6873 - val_loss: 0.6131 - val_accuracy: 0.6930\n",
            "Epoch 8/30\n",
            "9000/9000 [==============================] - 21s 2ms/sample - loss: 0.6181 - accuracy: 0.6920 - val_loss: 0.6456 - val_accuracy: 0.6820\n",
            "Epoch 9/30\n",
            "9000/9000 [==============================] - 21s 2ms/sample - loss: 0.5731 - accuracy: 0.6887 - val_loss: 0.7005 - val_accuracy: 0.6980\n",
            "Epoch 10/30\n",
            "9000/9000 [==============================] - 21s 2ms/sample - loss: 0.5997 - accuracy: 0.7066 - val_loss: 0.6760 - val_accuracy: 0.6800\n",
            "Epoch 11/30\n",
            "9000/9000 [==============================] - 22s 2ms/sample - loss: 0.5615 - accuracy: 0.7087 - val_loss: 0.6605 - val_accuracy: 0.6960\n",
            "Epoch 12/30\n",
            "9000/9000 [==============================] - 22s 2ms/sample - loss: 0.5642 - accuracy: 0.7082 - val_loss: 0.6875 - val_accuracy: 0.7060\n",
            "Epoch 13/30\n",
            "9000/9000 [==============================] - 22s 2ms/sample - loss: 0.5453 - accuracy: 0.7154 - val_loss: 0.7191 - val_accuracy: 0.6890\n",
            "Epoch 14/30\n",
            "9000/9000 [==============================] - 22s 2ms/sample - loss: 0.5472 - accuracy: 0.7176 - val_loss: 0.6455 - val_accuracy: 0.6940\n",
            "Epoch 15/30\n",
            "9000/9000 [==============================] - 22s 2ms/sample - loss: 0.5177 - accuracy: 0.7248 - val_loss: 0.7247 - val_accuracy: 0.6920\n",
            "Epoch 16/30\n",
            "9000/9000 [==============================] - 22s 2ms/sample - loss: 0.5217 - accuracy: 0.7236 - val_loss: 0.8048 - val_accuracy: 0.6900\n",
            "Epoch 17/30\n",
            "9000/9000 [==============================] - 21s 2ms/sample - loss: 0.5339 - accuracy: 0.7242 - val_loss: 0.7228 - val_accuracy: 0.6940\n",
            "Epoch 18/30\n",
            "9000/9000 [==============================] - 21s 2ms/sample - loss: 0.5221 - accuracy: 0.7296 - val_loss: 0.7812 - val_accuracy: 0.6970\n",
            "Epoch 19/30\n",
            "9000/9000 [==============================] - 21s 2ms/sample - loss: 0.5204 - accuracy: 0.7248 - val_loss: 0.7462 - val_accuracy: 0.6810\n",
            "Epoch 20/30\n",
            "9000/9000 [==============================] - 22s 2ms/sample - loss: 0.5083 - accuracy: 0.7320 - val_loss: 0.9022 - val_accuracy: 0.6840\n",
            "Epoch 21/30\n",
            "9000/9000 [==============================] - 21s 2ms/sample - loss: 0.5291 - accuracy: 0.7363 - val_loss: 0.7440 - val_accuracy: 0.7020\n",
            "Epoch 22/30\n",
            "9000/9000 [==============================] - 21s 2ms/sample - loss: 0.5248 - accuracy: 0.7433 - val_loss: 0.8131 - val_accuracy: 0.6970\n",
            "Epoch 23/30\n",
            "9000/9000 [==============================] - 21s 2ms/sample - loss: 0.5164 - accuracy: 0.7360 - val_loss: 0.7551 - val_accuracy: 0.7060\n",
            "Epoch 24/30\n",
            "9000/9000 [==============================] - 21s 2ms/sample - loss: 0.4847 - accuracy: 0.7459 - val_loss: 0.6840 - val_accuracy: 0.7010\n",
            "Epoch 25/30\n",
            "9000/9000 [==============================] - 21s 2ms/sample - loss: 0.4917 - accuracy: 0.7514 - val_loss: 0.8444 - val_accuracy: 0.7070\n",
            "Epoch 26/30\n",
            "9000/9000 [==============================] - 21s 2ms/sample - loss: 0.5048 - accuracy: 0.7442 - val_loss: 0.8082 - val_accuracy: 0.6950\n",
            "Epoch 27/30\n",
            "9000/9000 [==============================] - 21s 2ms/sample - loss: 0.5009 - accuracy: 0.7537 - val_loss: 0.8954 - val_accuracy: 0.7000\n",
            "Epoch 28/30\n",
            "9000/9000 [==============================] - 21s 2ms/sample - loss: 0.5026 - accuracy: 0.7494 - val_loss: 0.8872 - val_accuracy: 0.7070\n",
            "Epoch 29/30\n",
            "9000/9000 [==============================] - 21s 2ms/sample - loss: 0.4796 - accuracy: 0.7676 - val_loss: 0.8034 - val_accuracy: 0.7100\n",
            "Epoch 30/30\n",
            "9000/9000 [==============================] - 21s 2ms/sample - loss: 0.4905 - accuracy: 0.7540 - val_loss: 0.9609 - val_accuracy: 0.7040\n"
          ]
        }
      ]
    },
    {
      "cell_type": "code",
      "source": [
        "#_______________________________TEXT MODEL_______________________________\n",
        "input_text = layers.Input(shape=(1, embed_size))\n",
        "l = layers.Dense(1, activation='sigmoid')(input_text)\n",
        "text_model = Model(inputs=[input_text], outputs=l)\n",
        "text_model.compile(loss='binary_crossentropy', optimizer='adam', metrics=['accuracy'])\n",
        "text_model.summary()\n",
        "\n",
        "history = text_model.fit(tX_train, \n",
        "                    y_train,\n",
        "                    validation_split=0.1,\n",
        "                    epochs= 30,\n",
        "                    batch_size=batch_size,\n",
        "                    #verbose=0\n",
        "                    )\n",
        "\n",
        "text_model.save('/content/drive/MyDrive/PSU/NLP Lab/MAMI/Saved Models/ImageTextModel/text_model.h5')\n",
        "\n",
        "\n"
      ],
      "metadata": {
        "id": "9Qz9JD9DzeJx",
        "outputId": "4dd701ad-14d9-4391-e258-ac06adbd2485",
        "colab": {
          "base_uri": "https://localhost:8080/"
        }
      },
      "execution_count": 48,
      "outputs": [
        {
          "output_type": "stream",
          "name": "stdout",
          "text": [
            "Model: \"model_7\"\n",
            "_________________________________________________________________\n",
            " Layer (type)                Output Shape              Param #   \n",
            "=================================================================\n",
            " input_2 (InputLayer)        [(None, 1, 512)]          0         \n",
            "                                                                 \n",
            " dense_11 (Dense)            (None, 1, 1)              513       \n",
            "                                                                 \n",
            "=================================================================\n",
            "Total params: 513\n",
            "Trainable params: 513\n",
            "Non-trainable params: 0\n",
            "_________________________________________________________________\n",
            "Train on 9000 samples, validate on 1000 samples\n",
            "Epoch 1/30\n",
            "8896/9000 [============================>.] - ETA: 0s - loss: 0.6934 - accuracy: 0.5027"
          ]
        },
        {
          "output_type": "stream",
          "name": "stderr",
          "text": [
            "/usr/local/lib/python3.7/dist-packages/keras/engine/training_v1.py:2057: UserWarning: `Model.state_updates` will be removed in a future version. This property should not be used in TensorFlow 2.0, as `updates` are applied automatically.\n",
            "  updates = self.state_updates\n"
          ]
        },
        {
          "output_type": "stream",
          "name": "stdout",
          "text": [
            "9000/9000 [==============================] - 4s 453us/sample - loss: 0.6933 - accuracy: 0.5027 - val_loss: 0.6941 - val_accuracy: 0.4833\n",
            "Epoch 2/30\n",
            "9000/9000 [==============================] - 1s 69us/sample - loss: 0.6933 - accuracy: 0.5030 - val_loss: 0.6945 - val_accuracy: 0.4816\n",
            "Epoch 3/30\n",
            "9000/9000 [==============================] - 1s 66us/sample - loss: 0.6933 - accuracy: 0.5026 - val_loss: 0.6931 - val_accuracy: 0.5038\n",
            "Epoch 4/30\n",
            "9000/9000 [==============================] - 1s 60us/sample - loss: 0.6932 - accuracy: 0.5041 - val_loss: 0.6939 - val_accuracy: 0.4903\n",
            "Epoch 5/30\n",
            "9000/9000 [==============================] - 1s 63us/sample - loss: 0.6932 - accuracy: 0.5044 - val_loss: 0.6955 - val_accuracy: 0.4794\n",
            "Epoch 6/30\n",
            "9000/9000 [==============================] - 1s 62us/sample - loss: 0.6933 - accuracy: 0.5028 - val_loss: 0.6938 - val_accuracy: 0.4895\n",
            "Epoch 7/30\n",
            "9000/9000 [==============================] - 1s 60us/sample - loss: 0.6932 - accuracy: 0.5053 - val_loss: 0.6942 - val_accuracy: 0.4904\n",
            "Epoch 8/30\n",
            "9000/9000 [==============================] - 1s 60us/sample - loss: 0.6931 - accuracy: 0.5058 - val_loss: 0.6945 - val_accuracy: 0.4860\n",
            "Epoch 9/30\n",
            "9000/9000 [==============================] - 1s 60us/sample - loss: 0.6933 - accuracy: 0.5039 - val_loss: 0.6936 - val_accuracy: 0.4945\n",
            "Epoch 10/30\n",
            "9000/9000 [==============================] - 1s 61us/sample - loss: 0.6931 - accuracy: 0.5054 - val_loss: 0.6962 - val_accuracy: 0.4740\n",
            "Epoch 11/30\n",
            "9000/9000 [==============================] - 1s 63us/sample - loss: 0.6932 - accuracy: 0.5061 - val_loss: 0.6966 - val_accuracy: 0.4723\n",
            "Epoch 12/30\n",
            "9000/9000 [==============================] - 1s 60us/sample - loss: 0.6933 - accuracy: 0.5047 - val_loss: 0.6948 - val_accuracy: 0.4839\n",
            "Epoch 13/30\n",
            "9000/9000 [==============================] - 1s 63us/sample - loss: 0.6932 - accuracy: 0.5061 - val_loss: 0.6931 - val_accuracy: 0.5060\n",
            "Epoch 14/30\n",
            "9000/9000 [==============================] - 1s 64us/sample - loss: 0.6932 - accuracy: 0.5066 - val_loss: 0.6949 - val_accuracy: 0.4816\n",
            "Epoch 15/30\n",
            "9000/9000 [==============================] - 1s 64us/sample - loss: 0.6932 - accuracy: 0.5062 - val_loss: 0.6935 - val_accuracy: 0.4976\n",
            "Epoch 16/30\n",
            "9000/9000 [==============================] - 1s 64us/sample - loss: 0.6932 - accuracy: 0.5051 - val_loss: 0.6932 - val_accuracy: 0.5004\n",
            "Epoch 17/30\n",
            "9000/9000 [==============================] - 1s 61us/sample - loss: 0.6931 - accuracy: 0.5053 - val_loss: 0.6945 - val_accuracy: 0.4861\n",
            "Epoch 18/30\n",
            "9000/9000 [==============================] - 1s 62us/sample - loss: 0.6933 - accuracy: 0.5038 - val_loss: 0.6944 - val_accuracy: 0.4851\n",
            "Epoch 19/30\n",
            "9000/9000 [==============================] - 1s 61us/sample - loss: 0.6932 - accuracy: 0.5032 - val_loss: 0.6944 - val_accuracy: 0.4842\n",
            "Epoch 20/30\n",
            "9000/9000 [==============================] - 1s 62us/sample - loss: 0.6932 - accuracy: 0.5055 - val_loss: 0.6957 - val_accuracy: 0.4747\n",
            "Epoch 21/30\n",
            "9000/9000 [==============================] - 1s 64us/sample - loss: 0.6932 - accuracy: 0.5046 - val_loss: 0.6923 - val_accuracy: 0.5209\n",
            "Epoch 22/30\n",
            "9000/9000 [==============================] - 1s 65us/sample - loss: 0.6932 - accuracy: 0.5040 - val_loss: 0.6920 - val_accuracy: 0.5219\n",
            "Epoch 23/30\n",
            "9000/9000 [==============================] - 1s 65us/sample - loss: 0.6934 - accuracy: 0.5028 - val_loss: 0.6922 - val_accuracy: 0.5231\n",
            "Epoch 24/30\n",
            "9000/9000 [==============================] - 1s 66us/sample - loss: 0.6932 - accuracy: 0.5065 - val_loss: 0.6942 - val_accuracy: 0.4908\n",
            "Epoch 25/30\n",
            "9000/9000 [==============================] - 1s 62us/sample - loss: 0.6931 - accuracy: 0.5058 - val_loss: 0.6955 - val_accuracy: 0.4750\n",
            "Epoch 26/30\n",
            "9000/9000 [==============================] - 1s 60us/sample - loss: 0.6931 - accuracy: 0.5068 - val_loss: 0.6956 - val_accuracy: 0.4789\n",
            "Epoch 27/30\n",
            "9000/9000 [==============================] - 1s 63us/sample - loss: 0.6931 - accuracy: 0.5066 - val_loss: 0.6945 - val_accuracy: 0.4808\n",
            "Epoch 28/30\n",
            "9000/9000 [==============================] - 1s 70us/sample - loss: 0.6932 - accuracy: 0.5054 - val_loss: 0.6949 - val_accuracy: 0.4833\n",
            "Epoch 29/30\n",
            "9000/9000 [==============================] - 1s 60us/sample - loss: 0.6933 - accuracy: 0.5056 - val_loss: 0.6918 - val_accuracy: 0.5265\n",
            "Epoch 30/30\n",
            "9000/9000 [==============================] - 1s 63us/sample - loss: 0.6933 - accuracy: 0.5039 - val_loss: 0.6941 - val_accuracy: 0.4867\n"
          ]
        }
      ]
    },
    {
      "cell_type": "code",
      "source": [
        "image = image_model.layers[len(image_model.layers)-2].output\n",
        "reshape = layers.Reshape((1, image_model.layers[len(image_model.layers)-2].output_shape[1]), name='predictions')(image)\n",
        "text = text_model.layers[0].output\n",
        "\n",
        "input = tf.keras.layers.Concatenate(axis=-1)([text, reshape])\n",
        "\n",
        "l = layers.Dense(1, activation='sigmoid')(input)\n",
        "model = Model(inputs=[input_text, input_image], outputs=[l])\n",
        "model.compile(loss='binary_crossentropy', optimizer='adam', metrics=['accuracy'])\n",
        "model.summary()"
      ],
      "metadata": {
        "id": "YUHcHY98SWHL",
        "outputId": "718ad2cc-81e8-40f9-cad9-771ec02481d3",
        "colab": {
          "base_uri": "https://localhost:8080/"
        }
      },
      "execution_count": 49,
      "outputs": [
        {
          "output_type": "stream",
          "name": "stdout",
          "text": [
            "Model: \"model_8\"\n",
            "__________________________________________________________________________________________________\n",
            " Layer (type)                   Output Shape         Param #     Connected to                     \n",
            "==================================================================================================\n",
            " input_1 (InputLayer)           [(None, 224, 224, 3  0           []                               \n",
            "                                )]                                                                \n",
            "                                                                                                  \n",
            " block1_conv1 (Conv2D)          (None, 224, 224, 64  1792        ['input_1[0][0]']                \n",
            "                                )                                                                 \n",
            "                                                                                                  \n",
            " block1_conv2 (Conv2D)          (None, 224, 224, 64  36928       ['block1_conv1[0][0]']           \n",
            "                                )                                                                 \n",
            "                                                                                                  \n",
            " block1_pool (MaxPooling2D)     (None, 112, 112, 64  0           ['block1_conv2[0][0]']           \n",
            "                                )                                                                 \n",
            "                                                                                                  \n",
            " block2_conv1 (Conv2D)          (None, 112, 112, 12  73856       ['block1_pool[0][0]']            \n",
            "                                8)                                                                \n",
            "                                                                                                  \n",
            " block2_conv2 (Conv2D)          (None, 112, 112, 12  147584      ['block2_conv1[0][0]']           \n",
            "                                8)                                                                \n",
            "                                                                                                  \n",
            " block2_pool (MaxPooling2D)     (None, 56, 56, 128)  0           ['block2_conv2[0][0]']           \n",
            "                                                                                                  \n",
            " block3_conv1 (Conv2D)          (None, 56, 56, 256)  295168      ['block2_pool[0][0]']            \n",
            "                                                                                                  \n",
            " block3_conv2 (Conv2D)          (None, 56, 56, 256)  590080      ['block3_conv1[0][0]']           \n",
            "                                                                                                  \n",
            " block3_conv3 (Conv2D)          (None, 56, 56, 256)  590080      ['block3_conv2[0][0]']           \n",
            "                                                                                                  \n",
            " block3_pool (MaxPooling2D)     (None, 28, 28, 256)  0           ['block3_conv3[0][0]']           \n",
            "                                                                                                  \n",
            " block4_conv1 (Conv2D)          (None, 28, 28, 512)  1180160     ['block3_pool[0][0]']            \n",
            "                                                                                                  \n",
            " block4_conv2 (Conv2D)          (None, 28, 28, 512)  2359808     ['block4_conv1[0][0]']           \n",
            "                                                                                                  \n",
            " block4_conv3 (Conv2D)          (None, 28, 28, 512)  2359808     ['block4_conv2[0][0]']           \n",
            "                                                                                                  \n",
            " block4_pool (MaxPooling2D)     (None, 14, 14, 512)  0           ['block4_conv3[0][0]']           \n",
            "                                                                                                  \n",
            " block5_conv1 (Conv2D)          (None, 14, 14, 512)  2359808     ['block4_pool[0][0]']            \n",
            "                                                                                                  \n",
            " block5_conv2 (Conv2D)          (None, 14, 14, 512)  2359808     ['block5_conv1[0][0]']           \n",
            "                                                                                                  \n",
            " block5_conv3 (Conv2D)          (None, 14, 14, 512)  2359808     ['block5_conv2[0][0]']           \n",
            "                                                                                                  \n",
            " block5_pool (MaxPooling2D)     (None, 7, 7, 512)    0           ['block5_conv3[0][0]']           \n",
            "                                                                                                  \n",
            " flatten (Flatten)              (None, 25088)        0           ['block5_pool[0][0]']            \n",
            "                                                                                                  \n",
            " dense_8 (Dense)                (None, 256)          6422784     ['flatten[0][0]']                \n",
            "                                                                                                  \n",
            " dropout (Dropout)              (None, 256)          0           ['dense_8[0][0]']                \n",
            "                                                                                                  \n",
            " dense_9 (Dense)                (None, 64)           16448       ['dropout[0][0]']                \n",
            "                                                                                                  \n",
            " input_2 (InputLayer)           [(None, 1, 512)]     0           []                               \n",
            "                                                                                                  \n",
            " predictions (Reshape)          (None, 1, 64)        0           ['dense_9[0][0]']                \n",
            "                                                                                                  \n",
            " concatenate_9 (Concatenate)    (None, 1, 576)       0           ['input_2[0][0]',                \n",
            "                                                                  'predictions[0][0]']            \n",
            "                                                                                                  \n",
            " dense_12 (Dense)               (None, 1, 1)         577         ['concatenate_9[0][0]']          \n",
            "                                                                                                  \n",
            "==================================================================================================\n",
            "Total params: 21,154,497\n",
            "Trainable params: 6,439,809\n",
            "Non-trainable params: 14,714,688\n",
            "__________________________________________________________________________________________________\n"
          ]
        }
      ]
    },
    {
      "cell_type": "code",
      "source": [
        "text"
      ],
      "metadata": {
        "id": "nJoDeCowSWTu",
        "outputId": "a0b21f9e-6b7f-41f3-bda7-e73bb83b61fd",
        "colab": {
          "base_uri": "https://localhost:8080/"
        }
      },
      "execution_count": 50,
      "outputs": [
        {
          "output_type": "execute_result",
          "data": {
            "text/plain": [
              "<tf.Tensor 'input_2:0' shape=(None, 1, 512) dtype=float32>"
            ]
          },
          "metadata": {},
          "execution_count": 50
        }
      ]
    },
    {
      "cell_type": "code",
      "source": [
        "reshape"
      ],
      "metadata": {
        "id": "nat5Ui9PShWw",
        "outputId": "5318b044-a3f0-4c74-e9ca-79710bb0abc1",
        "colab": {
          "base_uri": "https://localhost:8080/"
        }
      },
      "execution_count": 51,
      "outputs": [
        {
          "output_type": "execute_result",
          "data": {
            "text/plain": [
              "<tf.Tensor 'predictions/Reshape:0' shape=(None, 1, 64) dtype=float32>"
            ]
          },
          "metadata": {},
          "execution_count": 51
        }
      ]
    },
    {
      "cell_type": "code",
      "source": [
        "input_text"
      ],
      "metadata": {
        "id": "LZY31XC9Shao",
        "outputId": "f0707551-9ce9-4ee0-bd00-e0cbd095302c",
        "colab": {
          "base_uri": "https://localhost:8080/"
        }
      },
      "execution_count": 52,
      "outputs": [
        {
          "output_type": "execute_result",
          "data": {
            "text/plain": [
              "<tf.Tensor 'input_2:0' shape=(None, 1, 512) dtype=float32>"
            ]
          },
          "metadata": {},
          "execution_count": 52
        }
      ]
    },
    {
      "cell_type": "code",
      "source": [
        "input_image"
      ],
      "metadata": {
        "id": "KcRxce7ZShft",
        "outputId": "e93cf048-5a08-4e7d-95e5-570fdbfcbd5d",
        "colab": {
          "base_uri": "https://localhost:8080/"
        }
      },
      "execution_count": 53,
      "outputs": [
        {
          "output_type": "execute_result",
          "data": {
            "text/plain": [
              "<tf.Tensor 'input_1:0' shape=(None, 224, 224, 3) dtype=float32>"
            ]
          },
          "metadata": {},
          "execution_count": 53
        }
      ]
    },
    {
      "cell_type": "code",
      "source": [
        "l"
      ],
      "metadata": {
        "id": "PBabrJepShjJ",
        "outputId": "119365ce-5852-4639-9126-cc5d4ab5083f",
        "colab": {
          "base_uri": "https://localhost:8080/"
        }
      },
      "execution_count": 54,
      "outputs": [
        {
          "output_type": "execute_result",
          "data": {
            "text/plain": [
              "<tf.Tensor 'dense_12/Sigmoid:0' shape=(None, 1, 1) dtype=float32>"
            ]
          },
          "metadata": {},
          "execution_count": 54
        }
      ]
    },
    {
      "cell_type": "code",
      "source": [
        ""
      ],
      "metadata": {
        "id": "drQ40n67Shk6"
      },
      "execution_count": null,
      "outputs": []
    },
    {
      "cell_type": "code",
      "source": [
        ""
      ],
      "metadata": {
        "id": "xxJoF1DRShoB"
      },
      "execution_count": null,
      "outputs": []
    },
    {
      "cell_type": "code",
      "source": [
        ""
      ],
      "metadata": {
        "id": "g_t3z4A1Shq3"
      },
      "execution_count": null,
      "outputs": []
    },
    {
      "cell_type": "code",
      "source": [
        "# !pip install tensorflow_text"
      ],
      "metadata": {
        "id": "fkIj-UzSqRle"
      },
      "execution_count": null,
      "outputs": []
    },
    {
      "cell_type": "code",
      "source": [
        "import tensorflow_text\n",
        "\n",
        "# downloading the pre-trained BERT model from tfhub\n",
        "bert_preprocess = hub.KerasLayer(\"https://tfhub.dev/tensorflow/bert_en_uncased_preprocess/3\")\n",
        "bert_encoder = hub.KerasLayer(\"https://tfhub.dev/tensorflow/bert_en_uncased_L-12_H-768_A-12/4\")"
      ],
      "metadata": {
        "id": "QQDiSrTPoGF-"
      },
      "execution_count": 55,
      "outputs": []
    },
    {
      "cell_type": "code",
      "source": [
        "# initializing BERT layers\n",
        "text_input_bert = tf.keras.layers.Input(shape=(), dtype=tf.string, name='input_text') # input layer\n",
        "preprocessed_text = bert_preprocess(text_input_bert)\n",
        "outputs = bert_encoder(preprocessed_text)\n",
        "\n",
        "reshape = tf.keras.layers.Reshape(target_shape=(1, 768))(outputs['default'])\n",
        "\n",
        "# initializing NN layer\n",
        "l = tf.keras.layers.Dropout(0.1, name=\"dropout\")(reshape)\n",
        "l = tf.keras.layers.Dense(1, activation='sigmoid', name=\"output\")(l)\n",
        "\n",
        "text_model_bert = Model(inputs=[text_input_bert], outputs=l)\n",
        "text_model_bert.compile(loss='binary_crossentropy', optimizer='adam', metrics=['accuracy'])\n",
        "text_model_bert.summary()"
      ],
      "metadata": {
        "id": "cr5LHkl7oKXI",
        "outputId": "2f85495b-27f1-4979-9811-37d942b3858e",
        "colab": {
          "base_uri": "https://localhost:8080/"
        }
      },
      "execution_count": 56,
      "outputs": [
        {
          "output_type": "stream",
          "name": "stdout",
          "text": [
            "Model: \"model_9\"\n",
            "__________________________________________________________________________________________________\n",
            " Layer (type)                   Output Shape         Param #     Connected to                     \n",
            "==================================================================================================\n",
            " input_text (InputLayer)        [(None,)]            0           []                               \n",
            "                                                                                                  \n",
            " keras_layer_2 (KerasLayer)     {'input_mask': (Non  0           ['input_text[0][0]']             \n",
            "                                e, 128),                                                          \n",
            "                                 'input_word_ids':                                                \n",
            "                                (None, 128),                                                      \n",
            "                                 'input_type_ids':                                                \n",
            "                                (None, 128)}                                                      \n",
            "                                                                                                  \n",
            " keras_layer_3 (KerasLayer)     {'encoder_outputs':  109482241   ['keras_layer_2[0][0]',          \n",
            "                                 [(None, 128, 768),               'keras_layer_2[0][1]',          \n",
            "                                 (None, 128, 768),                'keras_layer_2[0][2]']          \n",
            "                                 (None, 128, 768),                                                \n",
            "                                 (None, 128, 768),                                                \n",
            "                                 (None, 128, 768),                                                \n",
            "                                 (None, 128, 768),                                                \n",
            "                                 (None, 128, 768),                                                \n",
            "                                 (None, 128, 768),                                                \n",
            "                                 (None, 128, 768),                                                \n",
            "                                 (None, 128, 768),                                                \n",
            "                                 (None, 128, 768),                                                \n",
            "                                 (None, 128, 768)],                                               \n",
            "                                 'pooled_output': (                                               \n",
            "                                None, 768),                                                       \n",
            "                                 'default': (None,                                                \n",
            "                                768),                                                             \n",
            "                                 'sequence_output':                                               \n",
            "                                 (None, 128, 768)}                                                \n",
            "                                                                                                  \n",
            " reshape_1 (Reshape)            (None, 1, 768)       0           ['keras_layer_3[0][0]']          \n",
            "                                                                                                  \n",
            " dropout (Dropout)              (None, 1, 768)       0           ['reshape_1[0][0]']              \n",
            "                                                                                                  \n",
            " output (Dense)                 (None, 1, 1)         769         ['dropout[0][0]']                \n",
            "                                                                                                  \n",
            "==================================================================================================\n",
            "Total params: 109,483,010\n",
            "Trainable params: 769\n",
            "Non-trainable params: 109,482,241\n",
            "__________________________________________________________________________________________________\n"
          ]
        }
      ]
    },
    {
      "cell_type": "code",
      "source": [
        "df_1 = pd.read_csv(csv_path_train, usecols=['file_name', 'misogynous', 'Text Transcription'], sep='\\t')"
      ],
      "metadata": {
        "id": "w_tPx7ymoKwH"
      },
      "execution_count": 7,
      "outputs": []
    },
    {
      "cell_type": "code",
      "source": [
        "history = text_model.fit(df_1['Text Transcription'],\n",
        "                         df_1['misogynous'],\n",
        "                         validation_split=0.1,\n",
        "                         epochs= 10,\n",
        "                         batch_size=batch_size,\n",
        "                         #verbose=0\n",
        "                         )"
      ],
      "metadata": {
        "id": "ebgdqe-C5jD0",
        "outputId": "17e2e85f-3cba-4477-c688-8ce9768af6b1",
        "colab": {
          "base_uri": "https://localhost:8080/"
        }
      },
      "execution_count": 8,
      "outputs": [
        {
          "output_type": "stream",
          "name": "stdout",
          "text": [
            "Epoch 1/10\n",
            "282/282 [==============================] - 72s 223ms/step - loss: 0.6821 - accuracy: 0.5636 - val_loss: 0.6581 - val_accuracy: 0.6140\n",
            "Epoch 2/10\n",
            "282/282 [==============================] - 61s 218ms/step - loss: 0.6570 - accuracy: 0.6137 - val_loss: 0.6493 - val_accuracy: 0.6110\n",
            "Epoch 3/10\n",
            "282/282 [==============================] - 61s 218ms/step - loss: 0.6446 - accuracy: 0.6294 - val_loss: 0.6370 - val_accuracy: 0.6610\n",
            "Epoch 4/10\n",
            "282/282 [==============================] - 61s 218ms/step - loss: 0.6333 - accuracy: 0.6468 - val_loss: 0.6269 - val_accuracy: 0.6710\n",
            "Epoch 5/10\n",
            "282/282 [==============================] - 61s 218ms/step - loss: 0.6228 - accuracy: 0.6617 - val_loss: 0.6225 - val_accuracy: 0.6740\n",
            "Epoch 6/10\n",
            "282/282 [==============================] - 61s 218ms/step - loss: 0.6183 - accuracy: 0.6676 - val_loss: 0.6218 - val_accuracy: 0.6720\n",
            "Epoch 7/10\n",
            "282/282 [==============================] - 61s 218ms/step - loss: 0.6059 - accuracy: 0.6786 - val_loss: 0.6307 - val_accuracy: 0.6510\n",
            "Epoch 8/10\n",
            "282/282 [==============================] - 61s 218ms/step - loss: 0.6104 - accuracy: 0.6742 - val_loss: 0.6198 - val_accuracy: 0.6650\n",
            "Epoch 9/10\n",
            "282/282 [==============================] - 61s 218ms/step - loss: 0.6024 - accuracy: 0.6806 - val_loss: 0.6106 - val_accuracy: 0.6880\n",
            "Epoch 10/10\n",
            "282/282 [==============================] - 61s 218ms/step - loss: 0.5985 - accuracy: 0.6847 - val_loss: 0.6080 - val_accuracy: 0.6940\n"
          ]
        }
      ]
    },
    {
      "cell_type": "code",
      "source": [
        "text_model.layers[5].output"
      ],
      "metadata": {
        "id": "_BfyHa5g9kR0",
        "outputId": "e170b147-7ead-4dc2-acbc-a2a3c53c62ac",
        "colab": {
          "base_uri": "https://localhost:8080/"
        }
      },
      "execution_count": 60,
      "outputs": [
        {
          "output_type": "execute_result",
          "data": {
            "text/plain": [
              "<KerasTensor: shape=(None, 1, 1) dtype=float32 (created by layer 'output')>"
            ]
          },
          "metadata": {},
          "execution_count": 60
        }
      ]
    },
    {
      "cell_type": "code",
      "source": [
        ""
      ],
      "metadata": {
        "id": "-uI-t1CD9kUV"
      },
      "execution_count": null,
      "outputs": []
    },
    {
      "cell_type": "code",
      "source": [
        ""
      ],
      "metadata": {
        "id": "84yJe3lm9kWY"
      },
      "execution_count": null,
      "outputs": []
    },
    {
      "cell_type": "code",
      "source": [
        "# input_image = layers.Input(shape=(image_size,image_size,3))\n",
        "# vgg_model = VGG16(input_tensor = input_image, weights = 'imagenet', include_top=False)"
      ],
      "metadata": {
        "id": "s42i2B5J9kZV",
        "outputId": "14c7e239-a811-4e7b-dec2-9d4a04eaf379",
        "colab": {
          "base_uri": "https://localhost:8080/"
        }
      },
      "execution_count": 16,
      "outputs": [
        {
          "output_type": "stream",
          "name": "stdout",
          "text": [
            "Downloading data from https://storage.googleapis.com/tensorflow/keras-applications/vgg16/vgg16_weights_tf_dim_ordering_tf_kernels_notop.h5\n",
            "58892288/58889256 [==============================] - 0s 0us/step\n",
            "58900480/58889256 [==============================] - 0s 0us/step\n"
          ]
        }
      ]
    },
    {
      "cell_type": "code",
      "source": [
        "# txt_model = tf.keras.models.load_model('/content/drive/MyDrive/PSU/NLP Lab/MAMI/Saved Models/ImageTextModel/text_model.h5')\n",
        "# # txt_model.summary()\n",
        "# txt_model.layers[0].output"
      ],
      "metadata": {
        "id": "sRdqSyFW9kbV",
        "outputId": "930a591c-fa55-4089-9142-99e2bcd443a3",
        "colab": {
          "base_uri": "https://localhost:8080/"
        }
      },
      "execution_count": 23,
      "outputs": [
        {
          "output_type": "execute_result",
          "data": {
            "text/plain": [
              "<KerasTensor: shape=(None, 1, 512) dtype=float32 (created by layer 'input_2')>"
            ]
          },
          "metadata": {},
          "execution_count": 23
        }
      ]
    },
    {
      "cell_type": "code",
      "source": [
        "# # load image_model from dir\n",
        "# image_model = tf.keras.models.load_model('/content/drive/MyDrive/PSU/NLP Lab/MAMI/Saved Models/ImageTextModel/image_model.h5')\n",
        "# # image_model.summary()"
      ],
      "metadata": {
        "id": "aZG7s2z1oKzJ"
      },
      "execution_count": 20,
      "outputs": []
    },
    {
      "cell_type": "code",
      "source": [
        "#_______________________________IMAGE-TEXT MODEL_______________________________\n",
        "image = image_model.layers[len(image_model.layers)-2].output\n",
        "reshape = layers.Reshape((1, image_model.layers[len(image_model.layers)-2].output_shape[1]), name='predictions')(image)\n",
        "text = text_model_bert.layers[3].output\n",
        "\n",
        "input = tf.keras.layers.Concatenate(axis=-1)([text, reshape])\n",
        "\n",
        "l = layers.Dense(1, activation='sigmoid')(input)\n",
        "model = Model(inputs=[text, input_image], outputs=[l])\n",
        "model.compile(loss='binary_crossentropy', optimizer='adam', metrics=['accuracy'])\n",
        "model.summary()\n",
        "\n",
        "# model.save('/content/drive/MyDrive/PSU/NLP Lab/MAMI/Saved Models/ImageTextModel/image_text_model.h5')\n",
        "# tf.keras.utils.plot_model(model, \"/content/drive/MyDrive/PSU/NLP Lab/MAMI/Saved Models/ImageTextModel/model.png\", show_shapes=True)\n",
        "\n"
      ],
      "metadata": {
        "id": "9bFHxXaozeN1",
        "outputId": "4ed807ac-572e-4496-9a93-dde857090d62",
        "colab": {
          "base_uri": "https://localhost:8080/",
          "height": 601
        }
      },
      "execution_count": 62,
      "outputs": [
        {
          "output_type": "stream",
          "name": "stdout",
          "text": [
            "WARNING:tensorflow:Functional model inputs must come from `tf.keras.Input` (thus holding past layer metadata). They cannot be the output of a previous non-Input layer. Here, a tensor specified as input to \"model_10\" was not an Input tensor, it was generated by layer \"reshape_1\".\n",
            "Note that input tensors are instantiated via `tensor = tf.keras.Input(shape)`.\n",
            "The tensor that caused the issue was: Tensor(\"reshape_1/Reshape:0\", shape=(None, 1, 768), dtype=float32)\n"
          ]
        },
        {
          "output_type": "stream",
          "name": "stderr",
          "text": [
            "WARNING:tensorflow:Functional model inputs must come from `tf.keras.Input` (thus holding past layer metadata). They cannot be the output of a previous non-Input layer. Here, a tensor specified as input to \"model_10\" was not an Input tensor, it was generated by layer \"reshape_1\".\n",
            "Note that input tensors are instantiated via `tensor = tf.keras.Input(shape)`.\n",
            "The tensor that caused the issue was: Tensor(\"reshape_1/Reshape:0\", shape=(None, 1, 768), dtype=float32)\n"
          ]
        },
        {
          "output_type": "error",
          "ename": "ValueError",
          "evalue": "ignored",
          "traceback": [
            "\u001b[0;31m---------------------------------------------------------------------------\u001b[0m",
            "\u001b[0;31mValueError\u001b[0m                                Traceback (most recent call last)",
            "\u001b[0;32m<ipython-input-62-e6fe749461d4>\u001b[0m in \u001b[0;36m<module>\u001b[0;34m()\u001b[0m\n\u001b[1;32m      7\u001b[0m \u001b[0;34m\u001b[0m\u001b[0m\n\u001b[1;32m      8\u001b[0m \u001b[0ml\u001b[0m \u001b[0;34m=\u001b[0m \u001b[0mlayers\u001b[0m\u001b[0;34m.\u001b[0m\u001b[0mDense\u001b[0m\u001b[0;34m(\u001b[0m\u001b[0;36m1\u001b[0m\u001b[0;34m,\u001b[0m \u001b[0mactivation\u001b[0m\u001b[0;34m=\u001b[0m\u001b[0;34m'sigmoid'\u001b[0m\u001b[0;34m)\u001b[0m\u001b[0;34m(\u001b[0m\u001b[0minput\u001b[0m\u001b[0;34m)\u001b[0m\u001b[0;34m\u001b[0m\u001b[0;34m\u001b[0m\u001b[0m\n\u001b[0;32m----> 9\u001b[0;31m \u001b[0mmodel\u001b[0m \u001b[0;34m=\u001b[0m \u001b[0mModel\u001b[0m\u001b[0;34m(\u001b[0m\u001b[0minputs\u001b[0m\u001b[0;34m=\u001b[0m\u001b[0;34m[\u001b[0m\u001b[0mtext\u001b[0m\u001b[0;34m,\u001b[0m \u001b[0minput_image\u001b[0m\u001b[0;34m]\u001b[0m\u001b[0;34m,\u001b[0m \u001b[0moutputs\u001b[0m\u001b[0;34m=\u001b[0m\u001b[0;34m[\u001b[0m\u001b[0ml\u001b[0m\u001b[0;34m]\u001b[0m\u001b[0;34m)\u001b[0m\u001b[0;34m\u001b[0m\u001b[0;34m\u001b[0m\u001b[0m\n\u001b[0m\u001b[1;32m     10\u001b[0m \u001b[0mmodel\u001b[0m\u001b[0;34m.\u001b[0m\u001b[0mcompile\u001b[0m\u001b[0;34m(\u001b[0m\u001b[0mloss\u001b[0m\u001b[0;34m=\u001b[0m\u001b[0;34m'binary_crossentropy'\u001b[0m\u001b[0;34m,\u001b[0m \u001b[0moptimizer\u001b[0m\u001b[0;34m=\u001b[0m\u001b[0;34m'adam'\u001b[0m\u001b[0;34m,\u001b[0m \u001b[0mmetrics\u001b[0m\u001b[0;34m=\u001b[0m\u001b[0;34m[\u001b[0m\u001b[0;34m'accuracy'\u001b[0m\u001b[0;34m]\u001b[0m\u001b[0;34m)\u001b[0m\u001b[0;34m\u001b[0m\u001b[0;34m\u001b[0m\u001b[0m\n\u001b[1;32m     11\u001b[0m \u001b[0mmodel\u001b[0m\u001b[0;34m.\u001b[0m\u001b[0msummary\u001b[0m\u001b[0;34m(\u001b[0m\u001b[0;34m)\u001b[0m\u001b[0;34m\u001b[0m\u001b[0;34m\u001b[0m\u001b[0m\n",
            "\u001b[0;32m/usr/local/lib/python3.7/dist-packages/tensorflow/python/training/tracking/base.py\u001b[0m in \u001b[0;36m_method_wrapper\u001b[0;34m(self, *args, **kwargs)\u001b[0m\n\u001b[1;32m    528\u001b[0m     \u001b[0mself\u001b[0m\u001b[0;34m.\u001b[0m\u001b[0m_self_setattr_tracking\u001b[0m \u001b[0;34m=\u001b[0m \u001b[0;32mFalse\u001b[0m  \u001b[0;31m# pylint: disable=protected-access\u001b[0m\u001b[0;34m\u001b[0m\u001b[0;34m\u001b[0m\u001b[0m\n\u001b[1;32m    529\u001b[0m     \u001b[0;32mtry\u001b[0m\u001b[0;34m:\u001b[0m\u001b[0;34m\u001b[0m\u001b[0;34m\u001b[0m\u001b[0m\n\u001b[0;32m--> 530\u001b[0;31m       \u001b[0mresult\u001b[0m \u001b[0;34m=\u001b[0m \u001b[0mmethod\u001b[0m\u001b[0;34m(\u001b[0m\u001b[0mself\u001b[0m\u001b[0;34m,\u001b[0m \u001b[0;34m*\u001b[0m\u001b[0margs\u001b[0m\u001b[0;34m,\u001b[0m \u001b[0;34m**\u001b[0m\u001b[0mkwargs\u001b[0m\u001b[0;34m)\u001b[0m\u001b[0;34m\u001b[0m\u001b[0;34m\u001b[0m\u001b[0m\n\u001b[0m\u001b[1;32m    531\u001b[0m     \u001b[0;32mfinally\u001b[0m\u001b[0;34m:\u001b[0m\u001b[0;34m\u001b[0m\u001b[0;34m\u001b[0m\u001b[0m\n\u001b[1;32m    532\u001b[0m       \u001b[0mself\u001b[0m\u001b[0;34m.\u001b[0m\u001b[0m_self_setattr_tracking\u001b[0m \u001b[0;34m=\u001b[0m \u001b[0mprevious_value\u001b[0m  \u001b[0;31m# pylint: disable=protected-access\u001b[0m\u001b[0;34m\u001b[0m\u001b[0;34m\u001b[0m\u001b[0m\n",
            "\u001b[0;32m/usr/local/lib/python3.7/dist-packages/keras/engine/functional.py\u001b[0m in \u001b[0;36m__init__\u001b[0;34m(self, inputs, outputs, name, trainable, **kwargs)\u001b[0m\n\u001b[1;32m    144\u001b[0m                   for t in tf.nest.flatten(inputs)]):\n\u001b[1;32m    145\u001b[0m         \u001b[0minputs\u001b[0m\u001b[0;34m,\u001b[0m \u001b[0moutputs\u001b[0m \u001b[0;34m=\u001b[0m \u001b[0mfunctional_utils\u001b[0m\u001b[0;34m.\u001b[0m\u001b[0mclone_graph_nodes\u001b[0m\u001b[0;34m(\u001b[0m\u001b[0minputs\u001b[0m\u001b[0;34m,\u001b[0m \u001b[0moutputs\u001b[0m\u001b[0;34m)\u001b[0m\u001b[0;34m\u001b[0m\u001b[0;34m\u001b[0m\u001b[0m\n\u001b[0;32m--> 146\u001b[0;31m     \u001b[0mself\u001b[0m\u001b[0;34m.\u001b[0m\u001b[0m_init_graph_network\u001b[0m\u001b[0;34m(\u001b[0m\u001b[0minputs\u001b[0m\u001b[0;34m,\u001b[0m \u001b[0moutputs\u001b[0m\u001b[0;34m)\u001b[0m\u001b[0;34m\u001b[0m\u001b[0;34m\u001b[0m\u001b[0m\n\u001b[0m\u001b[1;32m    147\u001b[0m \u001b[0;34m\u001b[0m\u001b[0m\n\u001b[1;32m    148\u001b[0m   \u001b[0;34m@\u001b[0m\u001b[0mtf\u001b[0m\u001b[0;34m.\u001b[0m\u001b[0m__internal__\u001b[0m\u001b[0;34m.\u001b[0m\u001b[0mtracking\u001b[0m\u001b[0;34m.\u001b[0m\u001b[0mno_automatic_dependency_tracking\u001b[0m\u001b[0;34m\u001b[0m\u001b[0;34m\u001b[0m\u001b[0m\n",
            "\u001b[0;32m/usr/local/lib/python3.7/dist-packages/tensorflow/python/training/tracking/base.py\u001b[0m in \u001b[0;36m_method_wrapper\u001b[0;34m(self, *args, **kwargs)\u001b[0m\n\u001b[1;32m    528\u001b[0m     \u001b[0mself\u001b[0m\u001b[0;34m.\u001b[0m\u001b[0m_self_setattr_tracking\u001b[0m \u001b[0;34m=\u001b[0m \u001b[0;32mFalse\u001b[0m  \u001b[0;31m# pylint: disable=protected-access\u001b[0m\u001b[0;34m\u001b[0m\u001b[0;34m\u001b[0m\u001b[0m\n\u001b[1;32m    529\u001b[0m     \u001b[0;32mtry\u001b[0m\u001b[0;34m:\u001b[0m\u001b[0;34m\u001b[0m\u001b[0;34m\u001b[0m\u001b[0m\n\u001b[0;32m--> 530\u001b[0;31m       \u001b[0mresult\u001b[0m \u001b[0;34m=\u001b[0m \u001b[0mmethod\u001b[0m\u001b[0;34m(\u001b[0m\u001b[0mself\u001b[0m\u001b[0;34m,\u001b[0m \u001b[0;34m*\u001b[0m\u001b[0margs\u001b[0m\u001b[0;34m,\u001b[0m \u001b[0;34m**\u001b[0m\u001b[0mkwargs\u001b[0m\u001b[0;34m)\u001b[0m\u001b[0;34m\u001b[0m\u001b[0;34m\u001b[0m\u001b[0m\n\u001b[0m\u001b[1;32m    531\u001b[0m     \u001b[0;32mfinally\u001b[0m\u001b[0;34m:\u001b[0m\u001b[0;34m\u001b[0m\u001b[0;34m\u001b[0m\u001b[0m\n\u001b[1;32m    532\u001b[0m       \u001b[0mself\u001b[0m\u001b[0;34m.\u001b[0m\u001b[0m_self_setattr_tracking\u001b[0m \u001b[0;34m=\u001b[0m \u001b[0mprevious_value\u001b[0m  \u001b[0;31m# pylint: disable=protected-access\u001b[0m\u001b[0;34m\u001b[0m\u001b[0;34m\u001b[0m\u001b[0m\n",
            "\u001b[0;32m/usr/local/lib/python3.7/dist-packages/keras/engine/functional.py\u001b[0m in \u001b[0;36m_init_graph_network\u001b[0;34m(self, inputs, outputs)\u001b[0m\n\u001b[1;32m    228\u001b[0m     \u001b[0;31m# Keep track of the network's nodes and layers.\u001b[0m\u001b[0;34m\u001b[0m\u001b[0;34m\u001b[0m\u001b[0;34m\u001b[0m\u001b[0m\n\u001b[1;32m    229\u001b[0m     nodes, nodes_by_depth, layers, _ = _map_graph_network(\n\u001b[0;32m--> 230\u001b[0;31m         self.inputs, self.outputs)\n\u001b[0m\u001b[1;32m    231\u001b[0m     \u001b[0mself\u001b[0m\u001b[0;34m.\u001b[0m\u001b[0m_network_nodes\u001b[0m \u001b[0;34m=\u001b[0m \u001b[0mnodes\u001b[0m\u001b[0;34m\u001b[0m\u001b[0;34m\u001b[0m\u001b[0m\n\u001b[1;32m    232\u001b[0m     \u001b[0mself\u001b[0m\u001b[0;34m.\u001b[0m\u001b[0m_nodes_by_depth\u001b[0m \u001b[0;34m=\u001b[0m \u001b[0mnodes_by_depth\u001b[0m\u001b[0;34m\u001b[0m\u001b[0;34m\u001b[0m\u001b[0m\n",
            "\u001b[0;32m/usr/local/lib/python3.7/dist-packages/keras/engine/functional.py\u001b[0m in \u001b[0;36m_map_graph_network\u001b[0;34m(inputs, outputs)\u001b[0m\n\u001b[1;32m   1035\u001b[0m           \u001b[0;32mif\u001b[0m \u001b[0mid\u001b[0m\u001b[0;34m(\u001b[0m\u001b[0mx\u001b[0m\u001b[0;34m)\u001b[0m \u001b[0;32mnot\u001b[0m \u001b[0;32min\u001b[0m \u001b[0mcomputable_tensors\u001b[0m\u001b[0;34m:\u001b[0m\u001b[0;34m\u001b[0m\u001b[0;34m\u001b[0m\u001b[0m\n\u001b[1;32m   1036\u001b[0m             raise ValueError(\n\u001b[0;32m-> 1037\u001b[0;31m                 \u001b[0;34mf'Graph disconnected: cannot obtain value for tensor {x} '\u001b[0m\u001b[0;34m\u001b[0m\u001b[0;34m\u001b[0m\u001b[0m\n\u001b[0m\u001b[1;32m   1038\u001b[0m                 \u001b[0;34mf'at layer \"{layer.name}\". The following previous layers '\u001b[0m\u001b[0;34m\u001b[0m\u001b[0;34m\u001b[0m\u001b[0m\n\u001b[1;32m   1039\u001b[0m                 f'were accessed without issue: {layers_with_complete_input}')\n",
            "\u001b[0;31mValueError\u001b[0m: Graph disconnected: cannot obtain value for tensor Tensor(\"input_text:0\", shape=(None,), dtype=string) at layer \"keras_layer_2\". The following previous layers were accessed without issue: ['block1_conv1', 'block1_conv2', 'block1_pool', 'block2_conv1', 'block2_conv2', 'block2_pool', 'block3_conv1', 'block3_conv2', 'block3_conv3', 'block3_pool', 'block4_conv1', 'block4_conv2', 'block4_conv3', 'block4_pool', 'block5_conv1', 'block5_conv2', 'block5_conv3', 'block5_pool', 'flatten', 'dense_8', 'dropout']"
          ]
        }
      ]
    },
    {
      "cell_type": "code",
      "source": [
        "text_model_bert.layers[3].output"
      ],
      "metadata": {
        "id": "cTvV1RCIU8Y-",
        "outputId": "d46d93bd-2c85-4033-ee19-5638f6279b3c",
        "colab": {
          "base_uri": "https://localhost:8080/"
        }
      },
      "execution_count": 61,
      "outputs": [
        {
          "output_type": "execute_result",
          "data": {
            "text/plain": [
              "<tf.Tensor 'reshape_1/Reshape:0' shape=(None, 1, 768) dtype=float32>"
            ]
          },
          "metadata": {},
          "execution_count": 61
        }
      ]
    },
    {
      "cell_type": "code",
      "source": [
        "input"
      ],
      "metadata": {
        "id": "acqosR08U8ca",
        "outputId": "61253000-bc03-48b1-a408-4c7fe38368be",
        "colab": {
          "base_uri": "https://localhost:8080/"
        }
      },
      "execution_count": 63,
      "outputs": [
        {
          "output_type": "execute_result",
          "data": {
            "text/plain": [
              "<tf.Tensor 'concatenate_10/concat:0' shape=(None, 1, 832) dtype=float32>"
            ]
          },
          "metadata": {},
          "execution_count": 63
        }
      ]
    },
    {
      "cell_type": "code",
      "source": [
        "from keras.utils.vis_utils import plot_model\n",
        "plot_model(text_model_bert)"
      ],
      "metadata": {
        "id": "CnyhPTDvU8hZ",
        "outputId": "f1425981-5a3a-419a-f952-05afbafbeb8c",
        "colab": {
          "base_uri": "https://localhost:8080/",
          "height": 564
        }
      },
      "execution_count": 69,
      "outputs": [
        {
          "output_type": "execute_result",
          "data": {
            "image/png": "[encoded data removed]",
            "text/plain": [
              "<IPython.core.display.Image object>"
            ]
          },
          "metadata": {},
          "execution_count": 69
        }
      ]
    },
    {
      "cell_type": "code",
      "source": [
        ""
      ],
      "metadata": {
        "id": "N4lajMhcU8k1"
      },
      "execution_count": null,
      "outputs": []
    },
    {
      "cell_type": "code",
      "source": [
        ""
      ],
      "metadata": {
        "id": "RdzbDDGxU8nx"
      },
      "execution_count": null,
      "outputs": []
    },
    {
      "cell_type": "code",
      "source": [
        "#_______________________________Load Test Data_______________________________\n",
        "#clear memory\n",
        "# del X_train\n",
        "# del y_train\n",
        "# del iX_train\n",
        "# del tX_train\n",
        "\n",
        "gc.collect()\n",
        "\n",
        "# paths\n",
        "csv_path_test = '/content/drive/MyDrive/PSU/NLP Lab/MAMI/TEST/CSV/Test.csv'\n",
        "image_path = '/content/drive/MyDrive/PSU/NLP Lab/MAMI/TEST/Images'\n",
        "\n",
        "#load data\n",
        "test_df = pd.read_csv(csv_path_test, sep='\\t')\n",
        "path = image_path+'/'\n",
        "test_df['image_path'] = path + test_df['file_name']\n",
        "\n",
        "# Universal Sentence Encoder (USE)\n",
        "'''\n",
        "Split the dataset to avoid hitting the USE call limit\n",
        "an error occurs if the 47900 steps are reached\n",
        "'''\n",
        "dfs = np.array_split(test_df, 10)\n",
        "test_df['USE'] = None\n",
        "text_embeddings=[]\n",
        "with tf.compat.v1.Session() as session:\n",
        "    session.run([tf.compat.v1.global_variables_initializer(), tf.compat.v1.tables_initializer()])\n",
        "   \n",
        "    for x in dfs:\n",
        "      x_data_matches = pd.Series([])\n",
        "      text_embedding = session.run(embed(list(x['Text Transcription'])))\n",
        "      text_embeddings = text_embeddings + np.array(text_embedding).tolist()\n",
        "test_df['USE'] = text_embeddings\n",
        "\n",
        "#Load images\n",
        "test_df['image'] = None\n",
        "test_df['image'] = test_df['image_path'].apply(lambda x: img_to_array(loadImage(x)))        \n",
        "\n",
        "#division and processing of data as input to the model\n",
        "X_test = test_df[['file_name', 'USE', 'image']]\n",
        "\n",
        "#Text\n",
        "tmp = []\n",
        "for value in X_test['USE']:\n",
        "    tmp.append([value])  \n",
        "tX_test = np.array(tmp)\n",
        "\n",
        "\n",
        "#images\n",
        "tmp = []\n",
        "for value in X_test['image']:\n",
        "    tmp.append(value)  \n",
        "iX_test = np.array(tmp)\n",
        "\n",
        "#clear memory\n",
        "del tmp\n",
        "del dfs\n",
        "del text_embedding\n",
        "del text_embeddings\n",
        "\n",
        "gc.collect()\n",
        "\n"
      ],
      "metadata": {
        "id": "rvpHEKnlzePt",
        "outputId": "1f6c8fc8-1822-4ada-c746-1e7ef387cbb1",
        "colab": {
          "base_uri": "https://localhost:8080/"
        }
      },
      "execution_count": null,
      "outputs": [
        {
          "output_type": "stream",
          "name": "stderr",
          "text": [
            "/usr/local/lib/python3.7/dist-packages/ipykernel_launcher.py:31: DeprecationWarning: The default dtype for empty Series will be 'object' instead of 'float64' in a future version. Specify a dtype explicitly to silence this warning.\n"
          ]
        },
        {
          "output_type": "stream",
          "name": "stdout",
          "text": [
            "INFO:tensorflow:Saver not created because there are no variables in the graph to restore\n"
          ]
        },
        {
          "output_type": "stream",
          "name": "stderr",
          "text": [
            "INFO:tensorflow:Saver not created because there are no variables in the graph to restore\n"
          ]
        },
        {
          "output_type": "stream",
          "name": "stdout",
          "text": [
            "INFO:tensorflow:Saver not created because there are no variables in the graph to restore\n"
          ]
        },
        {
          "output_type": "stream",
          "name": "stderr",
          "text": [
            "INFO:tensorflow:Saver not created because there are no variables in the graph to restore\n"
          ]
        },
        {
          "output_type": "stream",
          "name": "stdout",
          "text": [
            "INFO:tensorflow:Saver not created because there are no variables in the graph to restore\n"
          ]
        },
        {
          "output_type": "stream",
          "name": "stderr",
          "text": [
            "INFO:tensorflow:Saver not created because there are no variables in the graph to restore\n"
          ]
        },
        {
          "output_type": "stream",
          "name": "stdout",
          "text": [
            "INFO:tensorflow:Saver not created because there are no variables in the graph to restore\n"
          ]
        },
        {
          "output_type": "stream",
          "name": "stderr",
          "text": [
            "INFO:tensorflow:Saver not created because there are no variables in the graph to restore\n"
          ]
        },
        {
          "output_type": "stream",
          "name": "stdout",
          "text": [
            "INFO:tensorflow:Saver not created because there are no variables in the graph to restore\n"
          ]
        },
        {
          "output_type": "stream",
          "name": "stderr",
          "text": [
            "INFO:tensorflow:Saver not created because there are no variables in the graph to restore\n"
          ]
        },
        {
          "output_type": "stream",
          "name": "stdout",
          "text": [
            "INFO:tensorflow:Saver not created because there are no variables in the graph to restore\n"
          ]
        },
        {
          "output_type": "stream",
          "name": "stderr",
          "text": [
            "INFO:tensorflow:Saver not created because there are no variables in the graph to restore\n"
          ]
        },
        {
          "output_type": "stream",
          "name": "stdout",
          "text": [
            "INFO:tensorflow:Saver not created because there are no variables in the graph to restore\n"
          ]
        },
        {
          "output_type": "stream",
          "name": "stderr",
          "text": [
            "INFO:tensorflow:Saver not created because there are no variables in the graph to restore\n"
          ]
        },
        {
          "output_type": "stream",
          "name": "stdout",
          "text": [
            "INFO:tensorflow:Saver not created because there are no variables in the graph to restore\n"
          ]
        },
        {
          "output_type": "stream",
          "name": "stderr",
          "text": [
            "INFO:tensorflow:Saver not created because there are no variables in the graph to restore\n"
          ]
        },
        {
          "output_type": "stream",
          "name": "stdout",
          "text": [
            "INFO:tensorflow:Saver not created because there are no variables in the graph to restore\n"
          ]
        },
        {
          "output_type": "stream",
          "name": "stderr",
          "text": [
            "INFO:tensorflow:Saver not created because there are no variables in the graph to restore\n"
          ]
        },
        {
          "output_type": "stream",
          "name": "stdout",
          "text": [
            "INFO:tensorflow:Saver not created because there are no variables in the graph to restore\n"
          ]
        },
        {
          "output_type": "stream",
          "name": "stderr",
          "text": [
            "INFO:tensorflow:Saver not created because there are no variables in the graph to restore\n"
          ]
        },
        {
          "output_type": "execute_result",
          "data": {
            "text/plain": [
              "0"
            ]
          },
          "metadata": {},
          "execution_count": 8
        }
      ]
    },
    {
      "cell_type": "code",
      "source": [
        "#_______________________________PREDICTION_______________________________\n",
        "predictions = model.predict([tX_test, iX_test], batch_size=batch_size)\n",
        "predictions = predictions.reshape(predictions.shape[0])\n",
        "pred = predictions > threshold\n",
        "pred = list(map(int, pred)) #true/false to 1/0\n",
        "\n",
        "predictions_db = pd.DataFrame(data=test_df['file_name'])\n",
        "predictions_db['misogynist'] = pred\n"
      ],
      "metadata": {
        "id": "WA00s39mzeSY",
        "outputId": "a62be7cf-53fc-4b21-ec81-10f041f091e1",
        "colab": {
          "base_uri": "https://localhost:8080/"
        }
      },
      "execution_count": null,
      "outputs": [
        {
          "output_type": "stream",
          "name": "stderr",
          "text": [
            "/usr/local/lib/python3.7/dist-packages/keras/engine/training_v1.py:2079: UserWarning: `Model.state_updates` will be removed in a future version. This property should not be used in TensorFlow 2.0, as `updates` are applied automatically.\n",
            "  updates=self.state_updates,\n"
          ]
        }
      ]
    },
    {
      "cell_type": "code",
      "source": [
        "predictions_db.to_csv(\"/content/drive/MyDrive/PSU/NLP Lab/MAMI/result.csv\", index=False)\n",
        "predictions_db"
      ],
      "metadata": {
        "colab": {
          "base_uri": "https://localhost:8080/",
          "height": 424
        },
        "id": "s44dE2ejlGhd",
        "outputId": "a92e35fb-ebd5-4c97-8b51-3781126bb1d4"
      },
      "execution_count": null,
      "outputs": [
        {
          "output_type": "execute_result",
          "data": {
            "text/html": [
              "\n",
              "  <div id=\"df-6579ac63-5fd0-4d29-9f4e-781373a735da\">\n",
              "    <div class=\"colab-df-container\">\n",
              "      <div>\n",
              "<style scoped>\n",
              "    .dataframe tbody tr th:only-of-type {\n",
              "        vertical-align: middle;\n",
              "    }\n",
              "\n",
              "    .dataframe tbody tr th {\n",
              "        vertical-align: top;\n",
              "    }\n",
              "\n",
              "    .dataframe thead th {\n",
              "        text-align: right;\n",
              "    }\n",
              "</style>\n",
              "<table border=\"1\" class=\"dataframe\">\n",
              "  <thead>\n",
              "    <tr style=\"text-align: right;\">\n",
              "      <th></th>\n",
              "      <th>file_name</th>\n",
              "      <th>misogynist</th>\n",
              "    </tr>\n",
              "  </thead>\n",
              "  <tbody>\n",
              "    <tr>\n",
              "      <th>0</th>\n",
              "      <td>15236.jpg</td>\n",
              "      <td>0</td>\n",
              "    </tr>\n",
              "    <tr>\n",
              "      <th>1</th>\n",
              "      <td>15805.jpg</td>\n",
              "      <td>0</td>\n",
              "    </tr>\n",
              "    <tr>\n",
              "      <th>2</th>\n",
              "      <td>16254.jpg</td>\n",
              "      <td>1</td>\n",
              "    </tr>\n",
              "    <tr>\n",
              "      <th>3</th>\n",
              "      <td>16191.jpg</td>\n",
              "      <td>1</td>\n",
              "    </tr>\n",
              "    <tr>\n",
              "      <th>4</th>\n",
              "      <td>15952.jpg</td>\n",
              "      <td>0</td>\n",
              "    </tr>\n",
              "    <tr>\n",
              "      <th>...</th>\n",
              "      <td>...</td>\n",
              "      <td>...</td>\n",
              "    </tr>\n",
              "    <tr>\n",
              "      <th>995</th>\n",
              "      <td>15591.jpg</td>\n",
              "      <td>0</td>\n",
              "    </tr>\n",
              "    <tr>\n",
              "      <th>996</th>\n",
              "      <td>15049.jpg</td>\n",
              "      <td>0</td>\n",
              "    </tr>\n",
              "    <tr>\n",
              "      <th>997</th>\n",
              "      <td>15363.jpg</td>\n",
              "      <td>0</td>\n",
              "    </tr>\n",
              "    <tr>\n",
              "      <th>998</th>\n",
              "      <td>15199.jpg</td>\n",
              "      <td>0</td>\n",
              "    </tr>\n",
              "    <tr>\n",
              "      <th>999</th>\n",
              "      <td>15853.jpg</td>\n",
              "      <td>0</td>\n",
              "    </tr>\n",
              "  </tbody>\n",
              "</table>\n",
              "<p>1000 rows × 2 columns</p>\n",
              "</div>\n",
              "      <button class=\"colab-df-convert\" onclick=\"convertToInteractive('df-6579ac63-5fd0-4d29-9f4e-781373a735da')\"\n",
              "              title=\"Convert this dataframe to an interactive table.\"\n",
              "              style=\"display:none;\">\n",
              "        \n",
              "  <svg xmlns=\"http://www.w3.org/2000/svg\" height=\"24px\"viewBox=\"0 0 24 24\"\n",
              "       width=\"24px\">\n",
              "    <path d=\"M0 0h24v24H0V0z\" fill=\"none\"/>\n",
              "    <path d=\"M18.56 5.44l.94 2.06.94-2.06 2.06-.94-2.06-.94-.94-2.06-.94 2.06-2.06.94zm-11 1L8.5 8.5l.94-2.06 2.06-.94-2.06-.94L8.5 2.5l-.94 2.06-2.06.94zm10 10l.94 2.06.94-2.06 2.06-.94-2.06-.94-.94-2.06-.94 2.06-2.06.94z\"/><path d=\"M17.41 7.96l-1.37-1.37c-.4-.4-.92-.59-1.43-.59-.52 0-1.04.2-1.43.59L10.3 9.45l-7.72 7.72c-.78.78-.78 2.05 0 2.83L4 21.41c.39.39.9.59 1.41.59.51 0 1.02-.2 1.41-.59l7.78-7.78 2.81-2.81c.8-.78.8-2.07 0-2.86zM5.41 20L4 18.59l7.72-7.72 1.47 1.35L5.41 20z\"/>\n",
              "  </svg>\n",
              "      </button>\n",
              "      \n",
              "  <style>\n",
              "    .colab-df-container {\n",
              "      display:flex;\n",
              "      flex-wrap:wrap;\n",
              "      gap: 12px;\n",
              "    }\n",
              "\n",
              "    .colab-df-convert {\n",
              "      background-color: #E8F0FE;\n",
              "      border: none;\n",
              "      border-radius: 50%;\n",
              "      cursor: pointer;\n",
              "      display: none;\n",
              "      fill: #1967D2;\n",
              "      height: 32px;\n",
              "      padding: 0 0 0 0;\n",
              "      width: 32px;\n",
              "    }\n",
              "\n",
              "    .colab-df-convert:hover {\n",
              "      background-color: #E2EBFA;\n",
              "      box-shadow: 0px 1px 2px rgba(60, 64, 67, 0.3), 0px 1px 3px 1px rgba(60, 64, 67, 0.15);\n",
              "      fill: #174EA6;\n",
              "    }\n",
              "\n",
              "    [theme=dark] .colab-df-convert {\n",
              "      background-color: #3B4455;\n",
              "      fill: #D2E3FC;\n",
              "    }\n",
              "\n",
              "    [theme=dark] .colab-df-convert:hover {\n",
              "      background-color: #434B5C;\n",
              "      box-shadow: 0px 1px 3px 1px rgba(0, 0, 0, 0.15);\n",
              "      filter: drop-shadow(0px 1px 2px rgba(0, 0, 0, 0.3));\n",
              "      fill: #FFFFFF;\n",
              "    }\n",
              "  </style>\n",
              "\n",
              "      <script>\n",
              "        const buttonEl =\n",
              "          document.querySelector('#df-6579ac63-5fd0-4d29-9f4e-781373a735da button.colab-df-convert');\n",
              "        buttonEl.style.display =\n",
              "          google.colab.kernel.accessAllowed ? 'block' : 'none';\n",
              "\n",
              "        async function convertToInteractive(key) {\n",
              "          const element = document.querySelector('#df-6579ac63-5fd0-4d29-9f4e-781373a735da');\n",
              "          const dataTable =\n",
              "            await google.colab.kernel.invokeFunction('convertToInteractive',\n",
              "                                                     [key], {});\n",
              "          if (!dataTable) return;\n",
              "\n",
              "          const docLinkHtml = 'Like what you see? Visit the ' +\n",
              "            '<a target=\"_blank\" href=https://colab.research.google.com/notebooks/data_table.ipynb>data table notebook</a>'\n",
              "            + ' to learn more about interactive tables.';\n",
              "          element.innerHTML = '';\n",
              "          dataTable['output_type'] = 'display_data';\n",
              "          await google.colab.output.renderOutput(dataTable, element);\n",
              "          const docLink = document.createElement('div');\n",
              "          docLink.innerHTML = docLinkHtml;\n",
              "          element.appendChild(docLink);\n",
              "        }\n",
              "      </script>\n",
              "    </div>\n",
              "  </div>\n",
              "  "
            ],
            "text/plain": [
              "     file_name  misogynist\n",
              "0    15236.jpg           0\n",
              "1    15805.jpg           0\n",
              "2    16254.jpg           1\n",
              "3    16191.jpg           1\n",
              "4    15952.jpg           0\n",
              "..         ...         ...\n",
              "995  15591.jpg           0\n",
              "996  15049.jpg           0\n",
              "997  15363.jpg           0\n",
              "998  15199.jpg           0\n",
              "999  15853.jpg           0\n",
              "\n",
              "[1000 rows x 2 columns]"
            ]
          },
          "metadata": {},
          "execution_count": 10
        }
      ]
    },
    {
      "cell_type": "code",
      "source": [
        "import evaluation\n",
        "\n",
        "#_______________________________EVALUATION_______________________________\n",
        "if not os.path.exists('./res'):\n",
        "    os.makedirs('./res')\n",
        "\n",
        "predictions_db.to_csv('./res/answer.txt', index=False, sep='\\t', header=False)\n",
        "evaluation.main(['','./', '/content/drive/MyDrive/PSU/NLP Lab/MAMI/Saved Models/ImageTextModel/'])\n",
        "#move res folder to ImageTextModel folder\n",
        "shutil.move('./res/', '/content/drive/MyDrive/PSU/NLP Lab/MAMI/Saved Models/ImageTextModel/res/')\n"
      ],
      "metadata": {
        "id": "b9A5q9z5zeUR"
      },
      "execution_count": null,
      "outputs": []
    },
    {
      "cell_type": "code",
      "source": [
        "# from sklearn.metrics import f1_score\n",
        "\n",
        "# f1_score(test_df['misogynous'], predictions_db['misogynist'], average='micro')"
      ],
      "metadata": {
        "id": "NwALGpOfzeWw"
      },
      "execution_count": null,
      "outputs": []
    },
    {
      "cell_type": "code",
      "source": [
        ""
      ],
      "metadata": {
        "id": "KpjxNJVxzeZK"
      },
      "execution_count": null,
      "outputs": []
    },
    {
      "cell_type": "code",
      "source": [
        ""
      ],
      "metadata": {
        "id": "eOpvAsrnzea6"
      },
      "execution_count": null,
      "outputs": []
    },
    {
      "cell_type": "code",
      "source": [
        ""
      ],
      "metadata": {
        "id": "OJCzqBeszefE"
      },
      "execution_count": null,
      "outputs": []
    },
    {
      "cell_type": "code",
      "source": [
        ""
      ],
      "metadata": {
        "id": "ADZoBJPhzehB"
      },
      "execution_count": null,
      "outputs": []
    },
    {
      "cell_type": "code",
      "source": [
        ""
      ],
      "metadata": {
        "id": "VTP-1hmqzekj"
      },
      "execution_count": null,
      "outputs": []
    }
  ],
  "metadata": {
    "language_info": {
      "name": "python"
    },
    "orig_nbformat": 4,
    "colab": {
      "name": "image_text_baseline.ipynb",
      "provenance": [],
      "machine_shape": "hm",
      "include_colab_link": true
    },
    "kernelspec": {
      "name": "python3",
      "display_name": "Python 3"
    },
    "accelerator": "GPU"
  },
  "nbformat": 4,
  "nbformat_minor": 0
}