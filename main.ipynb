{
  "nbformat": 4,
  "nbformat_minor": 0,
  "metadata": {
    "colab": {
      "name": "main.ipynb",
      "provenance": [],
      "collapsed_sections": [],
      "include_colab_link": true
    },
    "kernelspec": {
      "name": "python3",
      "display_name": "Python 3"
    },
    "language_info": {
      "name": "python"
    },
    "accelerator": "GPU"
  },
  "cells": [
    {
      "cell_type": "markdown",
      "metadata": {
        "id": "view-in-github",
        "colab_type": "text"
      },
      "source": [
        "<a href=\"https://colab.research.google.com/github/TeamMAMI/MAMI/blob/main/main.ipynb\" target=\"_parent\"><img src=\"https://colab.research.google.com/assets/colab-badge.svg\" alt=\"Open In Colab\"/></a>"
      ]
    },
    {
      "cell_type": "markdown",
      "metadata": {
        "id": "zkrHbSawMmWE"
      },
      "source": [
        "*Note: Turn on GPU for this notebook.*"
      ]
    },
    {
      "cell_type": "markdown",
      "metadata": {
        "id": "XSxKNsNVNXTC"
      },
      "source": [
        "## Dependencies and Libraries"
      ]
    },
    {
      "cell_type": "code",
      "metadata": {
        "id": "0X0xKEXG4XdZ"
      },
      "source": [
        "# download the required pacakges\n",
        "!pip install tensorflow_text"
      ],
      "execution_count": null,
      "outputs": []
    },
    {
      "cell_type": "code",
      "metadata": {
        "id": "iPK0Dajo2YSv"
      },
      "source": [
        "# import the libraries\n",
        "import tensorflow as tf\n",
        "import tensorflow_hub as hub\n",
        "import tensorflow_text as text\n",
        "import pandas as pd"
      ],
      "execution_count": 2,
      "outputs": []
    },
    {
      "cell_type": "markdown",
      "metadata": {
        "id": "JFh-FOcKNoPE"
      },
      "source": [
        "## Load the data"
      ]
    },
    {
      "cell_type": "code",
      "metadata": {
        "id": "nhTU_K6hHjBu",
        "colab": {
          "base_uri": "https://localhost:8080/"
        },
        "outputId": "399cbac2-6c80-4dbb-f006-cd7f9f9fd5ec"
      },
      "source": [
        "from google.colab import drive\n",
        "drive.mount('/content/drive')"
      ],
      "execution_count": 3,
      "outputs": [
        {
          "output_type": "stream",
          "name": "stdout",
          "text": [
            "Mounted at /content/drive\n"
          ]
        }
      ]
    },
    {
      "cell_type": "code",
      "metadata": {
        "colab": {
          "base_uri": "https://localhost:8080/",
          "height": 206
        },
        "id": "cdja5VNS4mKy",
        "outputId": "8f1e1c1b-52a9-432e-b8e7-607b68adfb27"
      },
      "source": [
        "# Load the data\n",
        "### data_path is the path of the csv file\n",
        "\n",
        "data_path = \"/content/drive/Shareddrives/team_MAMI/MAMI/TRIAL/trial.csv\"\n",
        "df = pd.read_csv(data_path, delimiter=\"\\t\")\n",
        "# df = df.sort_values('file_name')\n",
        "df.head(5)"
      ],
      "execution_count": 42,
      "outputs": [
        {
          "output_type": "execute_result",
          "data": {
            "text/html": [
              "<div>\n",
              "<style scoped>\n",
              "    .dataframe tbody tr th:only-of-type {\n",
              "        vertical-align: middle;\n",
              "    }\n",
              "\n",
              "    .dataframe tbody tr th {\n",
              "        vertical-align: top;\n",
              "    }\n",
              "\n",
              "    .dataframe thead th {\n",
              "        text-align: right;\n",
              "    }\n",
              "</style>\n",
              "<table border=\"1\" class=\"dataframe\">\n",
              "  <thead>\n",
              "    <tr style=\"text-align: right;\">\n",
              "      <th></th>\n",
              "      <th>file_name</th>\n",
              "      <th>misogynous</th>\n",
              "      <th>shaming</th>\n",
              "      <th>stereotype</th>\n",
              "      <th>objectification</th>\n",
              "      <th>violence</th>\n",
              "      <th>Text Transcription</th>\n",
              "    </tr>\n",
              "  </thead>\n",
              "  <tbody>\n",
              "    <tr>\n",
              "      <th>0</th>\n",
              "      <td>28.jpg</td>\n",
              "      <td>0</td>\n",
              "      <td>0</td>\n",
              "      <td>0</td>\n",
              "      <td>0</td>\n",
              "      <td>0</td>\n",
              "      <td>not now, dad. We should burn Jon Snow. stop it...</td>\n",
              "    </tr>\n",
              "    <tr>\n",
              "      <th>1</th>\n",
              "      <td>30.jpg</td>\n",
              "      <td>0</td>\n",
              "      <td>0</td>\n",
              "      <td>0</td>\n",
              "      <td>0</td>\n",
              "      <td>0</td>\n",
              "      <td>there may have been a mixcommunication with th...</td>\n",
              "    </tr>\n",
              "    <tr>\n",
              "      <th>2</th>\n",
              "      <td>33.jpg</td>\n",
              "      <td>0</td>\n",
              "      <td>0</td>\n",
              "      <td>0</td>\n",
              "      <td>0</td>\n",
              "      <td>0</td>\n",
              "      <td>i shouldn't have sold my boat</td>\n",
              "    </tr>\n",
              "    <tr>\n",
              "      <th>3</th>\n",
              "      <td>58.jpg</td>\n",
              "      <td>1</td>\n",
              "      <td>0</td>\n",
              "      <td>0</td>\n",
              "      <td>0</td>\n",
              "      <td>1</td>\n",
              "      <td>Bitches be like, It was my fault i made him mad</td>\n",
              "    </tr>\n",
              "    <tr>\n",
              "      <th>4</th>\n",
              "      <td>89.jpg</td>\n",
              "      <td>0</td>\n",
              "      <td>0</td>\n",
              "      <td>0</td>\n",
              "      <td>0</td>\n",
              "      <td>0</td>\n",
              "      <td>find a picture of 4 girls together on FB make ...</td>\n",
              "    </tr>\n",
              "  </tbody>\n",
              "</table>\n",
              "</div>"
            ],
            "text/plain": [
              "  file_name  ...                                 Text Transcription\n",
              "0    28.jpg  ...  not now, dad. We should burn Jon Snow. stop it...\n",
              "1    30.jpg  ...  there may have been a mixcommunication with th...\n",
              "2    33.jpg  ...                      i shouldn't have sold my boat\n",
              "3    58.jpg  ...    Bitches be like, It was my fault i made him mad\n",
              "4    89.jpg  ...  find a picture of 4 girls together on FB make ...\n",
              "\n",
              "[5 rows x 7 columns]"
            ]
          },
          "metadata": {},
          "execution_count": 42
        }
      ]
    },
    {
      "cell_type": "code",
      "metadata": {
        "colab": {
          "base_uri": "https://localhost:8080/",
          "height": 424
        },
        "id": "unpgyhXfrMBd",
        "outputId": "09bed9bd-2c11-48d9-d720-c0d2b9343774"
      },
      "source": [
        "caption_data_path = \"/content/drive/Shareddrives/team_MAMI/flickr8k/flickr8k_dataset/clean_image_captions.csv\"\n",
        "df_caption = pd.read_csv(caption_data_path, header=None, names=[\"image_name\", \"caption\"])\n",
        "df_caption = df_caption.sort_values('image_name')\n",
        "df_caption"
      ],
      "execution_count": 43,
      "outputs": [
        {
          "output_type": "execute_result",
          "data": {
            "text/html": [
              "<div>\n",
              "<style scoped>\n",
              "    .dataframe tbody tr th:only-of-type {\n",
              "        vertical-align: middle;\n",
              "    }\n",
              "\n",
              "    .dataframe tbody tr th {\n",
              "        vertical-align: top;\n",
              "    }\n",
              "\n",
              "    .dataframe thead th {\n",
              "        text-align: right;\n",
              "    }\n",
              "</style>\n",
              "<table border=\"1\" class=\"dataframe\">\n",
              "  <thead>\n",
              "    <tr style=\"text-align: right;\">\n",
              "      <th></th>\n",
              "      <th>image_name</th>\n",
              "      <th>caption</th>\n",
              "    </tr>\n",
              "  </thead>\n",
              "  <tbody>\n",
              "    <tr>\n",
              "      <th>15</th>\n",
              "      <td>image_0.png</td>\n",
              "      <td>man and a woman sitting on a bench in front of a</td>\n",
              "    </tr>\n",
              "    <tr>\n",
              "      <th>63</th>\n",
              "      <td>image_1.png</td>\n",
              "      <td>little girl in a pink dress blows bubbles out...</td>\n",
              "    </tr>\n",
              "    <tr>\n",
              "      <th>88</th>\n",
              "      <td>image_10.png</td>\n",
              "      <td>little girl in a pink shirt blows bubbles in ...</td>\n",
              "    </tr>\n",
              "    <tr>\n",
              "      <th>17</th>\n",
              "      <td>image_11.png</td>\n",
              "      <td>little boy and a woman sitting on a bench in ...</td>\n",
              "    </tr>\n",
              "    <tr>\n",
              "      <th>4</th>\n",
              "      <td>image_12.png</td>\n",
              "      <td>man and a woman looking at each other in fron...</td>\n",
              "    </tr>\n",
              "    <tr>\n",
              "      <th>...</th>\n",
              "      <td>...</td>\n",
              "      <td>...</td>\n",
              "    </tr>\n",
              "    <tr>\n",
              "      <th>35</th>\n",
              "      <td>image_95.png</td>\n",
              "      <td>group of people stand in front of a body of w...</td>\n",
              "    </tr>\n",
              "    <tr>\n",
              "      <th>93</th>\n",
              "      <td>image_96.png</td>\n",
              "      <td>group of older women standing in front of a b...</td>\n",
              "    </tr>\n",
              "    <tr>\n",
              "      <th>11</th>\n",
              "      <td>image_97.png</td>\n",
              "      <td>man and a woman sitting on a bench in front o...</td>\n",
              "    </tr>\n",
              "    <tr>\n",
              "      <th>54</th>\n",
              "      <td>image_98.png</td>\n",
              "      <td>people sit on a bench in front of a store</td>\n",
              "    </tr>\n",
              "    <tr>\n",
              "      <th>86</th>\n",
              "      <td>image_99.png</td>\n",
              "      <td>man and a woman sitting on a park bench in fr...</td>\n",
              "    </tr>\n",
              "  </tbody>\n",
              "</table>\n",
              "<p>100 rows × 2 columns</p>\n",
              "</div>"
            ],
            "text/plain": [
              "      image_name                                            caption\n",
              "15   image_0.png   man and a woman sitting on a bench in front of a\n",
              "63   image_1.png   little girl in a pink dress blows bubbles out...\n",
              "88  image_10.png   little girl in a pink shirt blows bubbles in ...\n",
              "17  image_11.png   little boy and a woman sitting on a bench in ...\n",
              "4   image_12.png   man and a woman looking at each other in fron...\n",
              "..           ...                                                ...\n",
              "35  image_95.png   group of people stand in front of a body of w...\n",
              "93  image_96.png   group of older women standing in front of a b...\n",
              "11  image_97.png   man and a woman sitting on a bench in front o...\n",
              "54  image_98.png          people sit on a bench in front of a store\n",
              "86  image_99.png   man and a woman sitting on a park bench in fr...\n",
              "\n",
              "[100 rows x 2 columns]"
            ]
          },
          "metadata": {},
          "execution_count": 43
        }
      ]
    },
    {
      "cell_type": "code",
      "metadata": {
        "id": "DZ3j7poB2E8e"
      },
      "source": [
        "cap = df_caption.caption.to_list()\n",
        "df[\"caption\"] = cap"
      ],
      "execution_count": 44,
      "outputs": []
    },
    {
      "cell_type": "code",
      "metadata": {
        "colab": {
          "base_uri": "https://localhost:8080/",
          "height": 424
        },
        "id": "o7kmZe915v9Q",
        "outputId": "1947aa33-d494-4b5c-a1f3-df2465b57b7d"
      },
      "source": [
        "df_req = df[['Text Transcription', 'caption']].copy()\n",
        "df_req"
      ],
      "execution_count": 50,
      "outputs": [
        {
          "output_type": "execute_result",
          "data": {
            "text/html": [
              "<div>\n",
              "<style scoped>\n",
              "    .dataframe tbody tr th:only-of-type {\n",
              "        vertical-align: middle;\n",
              "    }\n",
              "\n",
              "    .dataframe tbody tr th {\n",
              "        vertical-align: top;\n",
              "    }\n",
              "\n",
              "    .dataframe thead th {\n",
              "        text-align: right;\n",
              "    }\n",
              "</style>\n",
              "<table border=\"1\" class=\"dataframe\">\n",
              "  <thead>\n",
              "    <tr style=\"text-align: right;\">\n",
              "      <th></th>\n",
              "      <th>Text Transcription</th>\n",
              "      <th>caption</th>\n",
              "    </tr>\n",
              "  </thead>\n",
              "  <tbody>\n",
              "    <tr>\n",
              "      <th>0</th>\n",
              "      <td>not now, dad. We should burn Jon Snow. stop it...</td>\n",
              "      <td>man and a woman sitting on a bench in front of a</td>\n",
              "    </tr>\n",
              "    <tr>\n",
              "      <th>1</th>\n",
              "      <td>there may have been a mixcommunication with th...</td>\n",
              "      <td>little girl in a pink dress blows bubbles out...</td>\n",
              "    </tr>\n",
              "    <tr>\n",
              "      <th>2</th>\n",
              "      <td>i shouldn't have sold my boat</td>\n",
              "      <td>little girl in a pink shirt blows bubbles in ...</td>\n",
              "    </tr>\n",
              "    <tr>\n",
              "      <th>3</th>\n",
              "      <td>Bitches be like, It was my fault i made him mad</td>\n",
              "      <td>little boy and a woman sitting on a bench in ...</td>\n",
              "    </tr>\n",
              "    <tr>\n",
              "      <th>4</th>\n",
              "      <td>find a picture of 4 girls together on FB make ...</td>\n",
              "      <td>man and a woman looking at each other in fron...</td>\n",
              "    </tr>\n",
              "    <tr>\n",
              "      <th>...</th>\n",
              "      <td>...</td>\n",
              "      <td>...</td>\n",
              "    </tr>\n",
              "    <tr>\n",
              "      <th>95</th>\n",
              "      <td>Rape culture.  It's what every oxymoronic femi...</td>\n",
              "      <td>group of people stand in front of a body of w...</td>\n",
              "    </tr>\n",
              "    <tr>\n",
              "      <th>96</th>\n",
              "      <td>walking, running, telereporting, not going to ...</td>\n",
              "      <td>group of older women standing in front of a b...</td>\n",
              "    </tr>\n",
              "    <tr>\n",
              "      <th>97</th>\n",
              "      <td>taking the time to get her pussy wet. always p...</td>\n",
              "      <td>man and a woman sitting on a bench in front o...</td>\n",
              "    </tr>\n",
              "    <tr>\n",
              "      <th>98</th>\n",
              "      <td>what men play with vs what women play with</td>\n",
              "      <td>people sit on a bench in front of a store</td>\n",
              "    </tr>\n",
              "    <tr>\n",
              "      <th>99</th>\n",
              "      <td>Girls boys school travel sport shopping going ...</td>\n",
              "      <td>man and a woman sitting on a park bench in fr...</td>\n",
              "    </tr>\n",
              "  </tbody>\n",
              "</table>\n",
              "<p>100 rows × 2 columns</p>\n",
              "</div>"
            ],
            "text/plain": [
              "                                   Text Transcription                                            caption\n",
              "0   not now, dad. We should burn Jon Snow. stop it...   man and a woman sitting on a bench in front of a\n",
              "1   there may have been a mixcommunication with th...   little girl in a pink dress blows bubbles out...\n",
              "2                       i shouldn't have sold my boat   little girl in a pink shirt blows bubbles in ...\n",
              "3     Bitches be like, It was my fault i made him mad   little boy and a woman sitting on a bench in ...\n",
              "4   find a picture of 4 girls together on FB make ...   man and a woman looking at each other in fron...\n",
              "..                                                ...                                                ...\n",
              "95  Rape culture.  It's what every oxymoronic femi...   group of people stand in front of a body of w...\n",
              "96  walking, running, telereporting, not going to ...   group of older women standing in front of a b...\n",
              "97  taking the time to get her pussy wet. always p...   man and a woman sitting on a bench in front o...\n",
              "98         what men play with vs what women play with          people sit on a bench in front of a store\n",
              "99  Girls boys school travel sport shopping going ...   man and a woman sitting on a park bench in fr...\n",
              "\n",
              "[100 rows x 2 columns]"
            ]
          },
          "metadata": {},
          "execution_count": 50
        }
      ]
    },
    {
      "cell_type": "code",
      "metadata": {
        "id": "qFjAKzpC8mOM"
      },
      "source": [
        "concatenated = df_req['Text Transcription'] + df_req['caption']"
      ],
      "execution_count": 67,
      "outputs": []
    },
    {
      "cell_type": "markdown",
      "metadata": {
        "id": "dtZSzN1oOWXX"
      },
      "source": [
        "## Data Summary and Preprocessing"
      ]
    },
    {
      "cell_type": "code",
      "metadata": {
        "colab": {
          "base_uri": "https://localhost:8080/"
        },
        "id": "TrW8QOuU46rz",
        "outputId": "76c22104-8e45-45e1-e2d8-112fdf2295e4"
      },
      "source": [
        "# checking if the classes are balanced\n",
        "df['misogynous'].value_counts()"
      ],
      "execution_count": 47,
      "outputs": [
        {
          "output_type": "execute_result",
          "data": {
            "text/plain": [
              "0    56\n",
              "1    44\n",
              "Name: misogynous, dtype: int64"
            ]
          },
          "metadata": {},
          "execution_count": 47
        }
      ]
    },
    {
      "cell_type": "markdown",
      "metadata": {
        "id": "ZUOIrLWV7geV"
      },
      "source": [
        "The classes are evenly distributed (i.e. balanced class)."
      ]
    },
    {
      "cell_type": "code",
      "metadata": {
        "id": "xB3ZTjp27RGM"
      },
      "source": [
        "# splitting the data into train and test set\n",
        "from sklearn.model_selection import train_test_split\n",
        "\n",
        "X_train, X_test, y_train, y_test = train_test_split(concatenated, df['misogynous'], stratify=df['misogynous'], test_size=0.25)"
      ],
      "execution_count": 71,
      "outputs": []
    },
    {
      "cell_type": "markdown",
      "metadata": {
        "id": "N4kyquAc86yl"
      },
      "source": [
        "## BERT Implementation"
      ]
    },
    {
      "cell_type": "code",
      "metadata": {
        "id": "o-FZcUxX7y3d"
      },
      "source": [
        "# downloading the pre-trained BERT model from tfhub\n",
        "bert_preprocess = hub.KerasLayer(\"https://tfhub.dev/tensorflow/bert_en_uncased_preprocess/3\")\n",
        "bert_encoder = hub.KerasLayer(\"https://tfhub.dev/tensorflow/bert_en_uncased_L-12_H-768_A-12/4\")"
      ],
      "execution_count": 72,
      "outputs": []
    },
    {
      "cell_type": "markdown",
      "metadata": {
        "id": "1i9S04be9Sjm"
      },
      "source": [
        "Functional model below."
      ]
    },
    {
      "cell_type": "code",
      "metadata": {
        "id": "lhXGN1Cb7_Gp"
      },
      "source": [
        "# initializing BERT layers\n",
        "text_input = tf.keras.layers.Input(shape=(), dtype=tf.string, name='text') # input layer\n",
        "preprocessed_text = bert_preprocess(text_input)\n",
        "outputs = bert_encoder(preprocessed_text)\n",
        "\n",
        "# initializing NN layers\n",
        "\n",
        "### The Dropout layer randomly sets input units to 0 with a frequency of rate at \n",
        "### each step during training time, which helps prevent overfitting\n",
        "### Source: https://keras.io/api/layers/regularization_layers/dropout/\n",
        "l = tf.keras.layers.Dropout(0.1, name=\"dropout\")(outputs['pooled_output']) # 0.1% neuron is dropped out randomly\n",
        "l = tf.keras.layers.Dense(1, activation='sigmoid', name=\"output\")(l) # 1 neuron tells if the text is misogynous or not (i.e. 1 or 0)\n",
        "\n",
        "model = tf.keras.Model(inputs=[text_input], outputs = [l])"
      ],
      "execution_count": 73,
      "outputs": []
    },
    {
      "cell_type": "code",
      "metadata": {
        "colab": {
          "base_uri": "https://localhost:8080/"
        },
        "id": "gLPKsTwP9Yy_",
        "outputId": "5e0a2a5a-2a93-4e0f-d923-258ba3e5e792"
      },
      "source": [
        "model.summary()"
      ],
      "execution_count": 74,
      "outputs": [
        {
          "output_type": "stream",
          "name": "stdout",
          "text": [
            "Model: \"model_1\"\n",
            "__________________________________________________________________________________________________\n",
            " Layer (type)                   Output Shape         Param #     Connected to                     \n",
            "==================================================================================================\n",
            " text (InputLayer)              [(None,)]            0           []                               \n",
            "                                                                                                  \n",
            " keras_layer_2 (KerasLayer)     {'input_word_ids':   0           ['text[0][0]']                   \n",
            "                                (None, 128),                                                      \n",
            "                                 'input_mask': (Non                                               \n",
            "                                e, 128),                                                          \n",
            "                                 'input_type_ids':                                                \n",
            "                                (None, 128)}                                                      \n",
            "                                                                                                  \n",
            " keras_layer_3 (KerasLayer)     {'encoder_outputs':  109482241   ['keras_layer_2[0][0]',          \n",
            "                                 [(None, 128, 768),               'keras_layer_2[0][1]',          \n",
            "                                 (None, 128, 768),                'keras_layer_2[0][2]']          \n",
            "                                 (None, 128, 768),                                                \n",
            "                                 (None, 128, 768),                                                \n",
            "                                 (None, 128, 768),                                                \n",
            "                                 (None, 128, 768),                                                \n",
            "                                 (None, 128, 768),                                                \n",
            "                                 (None, 128, 768),                                                \n",
            "                                 (None, 128, 768),                                                \n",
            "                                 (None, 128, 768),                                                \n",
            "                                 (None, 128, 768),                                                \n",
            "                                 (None, 128, 768)],                                               \n",
            "                                 'default': (None,                                                \n",
            "                                768),                                                             \n",
            "                                 'sequence_output':                                               \n",
            "                                 (None, 128, 768),                                                \n",
            "                                 'pooled_output': (                                               \n",
            "                                None, 768)}                                                       \n",
            "                                                                                                  \n",
            " dropout (Dropout)              (None, 768)          0           ['keras_layer_3[0][13]']         \n",
            "                                                                                                  \n",
            " output (Dense)                 (None, 1)            769         ['dropout[0][0]']                \n",
            "                                                                                                  \n",
            "==================================================================================================\n",
            "Total params: 109,483,010\n",
            "Trainable params: 769\n",
            "Non-trainable params: 109,482,241\n",
            "__________________________________________________________________________________________________\n"
          ]
        }
      ]
    },
    {
      "cell_type": "markdown",
      "metadata": {
        "id": "tIdivxFyO_43"
      },
      "source": [
        "## Model Training"
      ]
    },
    {
      "cell_type": "code",
      "metadata": {
        "id": "tuGLgUCh9aH9"
      },
      "source": [
        "# accuracy metrics\n",
        "METRICS = [\n",
        "      tf.keras.metrics.BinaryAccuracy(name='accuracy'),\n",
        "      tf.keras.metrics.Precision(name='precision'),\n",
        "      tf.keras.metrics.Recall(name='recall')\n",
        "]\n",
        "\n",
        "model.compile(optimizer='adam',\n",
        "              loss='binary_crossentropy',\n",
        "              metrics=METRICS)"
      ],
      "execution_count": 75,
      "outputs": []
    },
    {
      "cell_type": "code",
      "metadata": {
        "colab": {
          "base_uri": "https://localhost:8080/"
        },
        "id": "v6w2jHO-9dvL",
        "outputId": "c49ad90c-4682-4bfa-e66c-57b18bd3c403"
      },
      "source": [
        "model.fit(X_train , y_train, epochs=10)"
      ],
      "execution_count": 76,
      "outputs": [
        {
          "output_type": "stream",
          "name": "stdout",
          "text": [
            "Epoch 1/10\n",
            "3/3 [==============================] - 13s 461ms/step - loss: 0.7103 - accuracy: 0.5200 - precision: 0.4444 - recall: 0.3636\n",
            "Epoch 2/10\n",
            "3/3 [==============================] - 2s 454ms/step - loss: 0.6858 - accuracy: 0.6000 - precision: 0.8000 - recall: 0.1212\n",
            "Epoch 3/10\n",
            "3/3 [==============================] - 2s 461ms/step - loss: 0.7056 - accuracy: 0.4533 - precision: 0.3667 - recall: 0.3333\n",
            "Epoch 4/10\n",
            "3/3 [==============================] - 2s 459ms/step - loss: 0.7243 - accuracy: 0.5200 - precision: 0.4727 - recall: 0.7879\n",
            "Epoch 5/10\n",
            "3/3 [==============================] - 2s 464ms/step - loss: 0.6831 - accuracy: 0.5200 - precision: 0.4694 - recall: 0.6970\n",
            "Epoch 6/10\n",
            "3/3 [==============================] - 2s 463ms/step - loss: 0.6863 - accuracy: 0.5467 - precision: 0.4857 - recall: 0.5152\n",
            "Epoch 7/10\n",
            "3/3 [==============================] - 2s 471ms/step - loss: 0.6697 - accuracy: 0.6267 - precision: 1.0000 - recall: 0.1515\n",
            "Epoch 8/10\n",
            "3/3 [==============================] - 2s 453ms/step - loss: 0.6966 - accuracy: 0.5733 - precision: 1.0000 - recall: 0.0303\n",
            "Epoch 9/10\n",
            "3/3 [==============================] - 2s 457ms/step - loss: 0.7202 - accuracy: 0.5467 - precision: 0.3333 - recall: 0.0303\n",
            "Epoch 10/10\n",
            "3/3 [==============================] - 2s 462ms/step - loss: 0.6639 - accuracy: 0.5867 - precision: 1.0000 - recall: 0.0606\n"
          ]
        },
        {
          "output_type": "execute_result",
          "data": {
            "text/plain": [
              "<keras.callbacks.History at 0x7f6c62417cd0>"
            ]
          },
          "metadata": {},
          "execution_count": 76
        }
      ]
    },
    {
      "cell_type": "code",
      "metadata": {
        "colab": {
          "base_uri": "https://localhost:8080/"
        },
        "id": "Pk-YZSe09hO4",
        "outputId": "a9b6d98b-f665-49fd-cda0-b3dadde33b63"
      },
      "source": [
        "model.evaluate(X_test, y_test)"
      ],
      "execution_count": 77,
      "outputs": [
        {
          "output_type": "stream",
          "name": "stdout",
          "text": [
            "1/1 [==============================] - 2s 2s/step - loss: 0.6802 - accuracy: 0.6000 - precision: 1.0000 - recall: 0.0909\n"
          ]
        },
        {
          "output_type": "execute_result",
          "data": {
            "text/plain": [
              "[0.6802049875259399, 0.6000000238418579, 1.0, 0.09090909361839294]"
            ]
          },
          "metadata": {},
          "execution_count": 77
        }
      ]
    },
    {
      "cell_type": "code",
      "metadata": {
        "id": "9EikV2b49nN4"
      },
      "source": [
        ""
      ],
      "execution_count": null,
      "outputs": []
    },
    {
      "cell_type": "code",
      "metadata": {
        "id": "yGxQlYv89xxv"
      },
      "source": [
        ""
      ],
      "execution_count": null,
      "outputs": []
    }
  ]
}