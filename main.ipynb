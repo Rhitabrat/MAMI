{
  "nbformat": 4,
  "nbformat_minor": 0,
  "metadata": {
    "colab": {
      "name": "main.ipynb",
      "provenance": [],
      "collapsed_sections": []
    },
    "kernelspec": {
      "name": "python3",
      "display_name": "Python 3"
    },
    "language_info": {
      "name": "python"
    },
    "accelerator": "GPU"
  },
  "cells": [
    {
      "cell_type": "markdown",
      "metadata": {
        "id": "zkrHbSawMmWE"
      },
      "source": [
        "*Note: Turn on GPU for this notebook.*"
      ]
    },
    {
      "cell_type": "markdown",
      "metadata": {
        "id": "XSxKNsNVNXTC"
      },
      "source": [
        "## Dependencies and Libraries"
      ]
    },
    {
      "cell_type": "code",
      "metadata": {
        "id": "0X0xKEXG4XdZ"
      },
      "source": [
        "# download the required pacakges\n",
        "!pip install tensorflow_text"
      ],
      "execution_count": null,
      "outputs": []
    },
    {
      "cell_type": "code",
      "metadata": {
        "id": "iPK0Dajo2YSv"
      },
      "source": [
        "# import the libraries\n",
        "import tensorflow as tf\n",
        "import tensorflow_hub as hub\n",
        "import tensorflow_text as text\n",
        "import pandas as pd"
      ],
      "execution_count": 2,
      "outputs": []
    },
    {
      "cell_type": "markdown",
      "metadata": {
        "id": "JFh-FOcKNoPE"
      },
      "source": [
        "## Load the data"
      ]
    },
    {
      "cell_type": "code",
      "metadata": {
        "colab": {
          "base_uri": "https://localhost:8080/",
          "height": 206
        },
        "id": "cdja5VNS4mKy",
        "outputId": "342b1d13-90cb-4ee2-8568-283e5ab0b689"
      },
      "source": [
        "# Load the data\n",
        "### data_path is the path of the csv file\n",
        "\n",
        "data_path = \"/content/drive/Shareddrives/team MAMI/MAMI/TRAIN/training.csv\"\n",
        "df = pd.read_csv(data_path, delimiter=\"\\t\")\n",
        "df.head(5)"
      ],
      "execution_count": 5,
      "outputs": [
        {
          "output_type": "execute_result",
          "data": {
            "text/html": [
              "<div>\n",
              "<style scoped>\n",
              "    .dataframe tbody tr th:only-of-type {\n",
              "        vertical-align: middle;\n",
              "    }\n",
              "\n",
              "    .dataframe tbody tr th {\n",
              "        vertical-align: top;\n",
              "    }\n",
              "\n",
              "    .dataframe thead th {\n",
              "        text-align: right;\n",
              "    }\n",
              "</style>\n",
              "<table border=\"1\" class=\"dataframe\">\n",
              "  <thead>\n",
              "    <tr style=\"text-align: right;\">\n",
              "      <th></th>\n",
              "      <th>file_name</th>\n",
              "      <th>misogynous</th>\n",
              "      <th>shaming</th>\n",
              "      <th>stereotype</th>\n",
              "      <th>objectification</th>\n",
              "      <th>violence</th>\n",
              "      <th>Text Transcription</th>\n",
              "    </tr>\n",
              "  </thead>\n",
              "  <tbody>\n",
              "    <tr>\n",
              "      <th>0</th>\n",
              "      <td>1.jpg</td>\n",
              "      <td>0</td>\n",
              "      <td>0</td>\n",
              "      <td>0</td>\n",
              "      <td>0</td>\n",
              "      <td>0</td>\n",
              "      <td>Milk Milk.zip</td>\n",
              "    </tr>\n",
              "    <tr>\n",
              "      <th>1</th>\n",
              "      <td>10.jpg</td>\n",
              "      <td>1</td>\n",
              "      <td>0</td>\n",
              "      <td>0</td>\n",
              "      <td>0</td>\n",
              "      <td>1</td>\n",
              "      <td>ROSES ARE RED, VIOLETS ARE BLUE IF YOU DON'T S...</td>\n",
              "    </tr>\n",
              "    <tr>\n",
              "      <th>2</th>\n",
              "      <td>1000.jpg</td>\n",
              "      <td>0</td>\n",
              "      <td>0</td>\n",
              "      <td>0</td>\n",
              "      <td>0</td>\n",
              "      <td>0</td>\n",
              "      <td>BREAKING NEWS: Russia releases photo of DONALD...</td>\n",
              "    </tr>\n",
              "    <tr>\n",
              "      <th>3</th>\n",
              "      <td>10000.jpg</td>\n",
              "      <td>0</td>\n",
              "      <td>0</td>\n",
              "      <td>0</td>\n",
              "      <td>0</td>\n",
              "      <td>0</td>\n",
              "      <td>MAN SEEKING WOMAN Ignad 18 O</td>\n",
              "    </tr>\n",
              "    <tr>\n",
              "      <th>4</th>\n",
              "      <td>10006.jpg</td>\n",
              "      <td>0</td>\n",
              "      <td>0</td>\n",
              "      <td>0</td>\n",
              "      <td>0</td>\n",
              "      <td>0</td>\n",
              "      <td>Me explaining the deep lore of. J.R.R. Tolkein...</td>\n",
              "    </tr>\n",
              "  </tbody>\n",
              "</table>\n",
              "</div>"
            ],
            "text/plain": [
              "   file_name  ...                                 Text Transcription\n",
              "0      1.jpg  ...                                      Milk Milk.zip\n",
              "1     10.jpg  ...  ROSES ARE RED, VIOLETS ARE BLUE IF YOU DON'T S...\n",
              "2   1000.jpg  ...  BREAKING NEWS: Russia releases photo of DONALD...\n",
              "3  10000.jpg  ...                       MAN SEEKING WOMAN Ignad 18 O\n",
              "4  10006.jpg  ...  Me explaining the deep lore of. J.R.R. Tolkein...\n",
              "\n",
              "[5 rows x 7 columns]"
            ]
          },
          "metadata": {},
          "execution_count": 5
        }
      ]
    },
    {
      "cell_type": "code",
      "metadata": {
        "id": "nhTU_K6hHjBu",
        "outputId": "cb33ac45-2187-417b-b159-7a83528a18bd",
        "colab": {
          "base_uri": "https://localhost:8080/"
        }
      },
      "source": [
        "from google.colab import drive\n",
        "drive.mount('/content/drive')"
      ],
      "execution_count": 4,
      "outputs": [
        {
          "output_type": "stream",
          "name": "stdout",
          "text": [
            "Mounted at /content/drive\n"
          ]
        }
      ]
    },
    {
      "cell_type": "markdown",
      "metadata": {
        "id": "dtZSzN1oOWXX"
      },
      "source": [
        "## Data Summary and Preprocessing"
      ]
    },
    {
      "cell_type": "code",
      "metadata": {
        "colab": {
          "base_uri": "https://localhost:8080/"
        },
        "id": "TrW8QOuU46rz",
        "outputId": "e50769ba-3a36-43d8-bf4c-fd664ad47383"
      },
      "source": [
        "# checking if the classes are balanced\n",
        "df['misogynous'].value_counts()"
      ],
      "execution_count": 6,
      "outputs": [
        {
          "output_type": "execute_result",
          "data": {
            "text/plain": [
              "1    5000\n",
              "0    5000\n",
              "Name: misogynous, dtype: int64"
            ]
          },
          "metadata": {},
          "execution_count": 6
        }
      ]
    },
    {
      "cell_type": "markdown",
      "metadata": {
        "id": "ZUOIrLWV7geV"
      },
      "source": [
        "The classes are evenly distributed (i.e. balanced class)."
      ]
    },
    {
      "cell_type": "code",
      "metadata": {
        "id": "xB3ZTjp27RGM"
      },
      "source": [
        "# splitting the data into train and test set\n",
        "from sklearn.model_selection import train_test_split\n",
        "\n",
        "X_train, X_test, y_train, y_test = train_test_split(df['Text Transcription'],df['misogynous'], stratify=df['misogynous'], test_size=0.25)"
      ],
      "execution_count": 7,
      "outputs": []
    },
    {
      "cell_type": "markdown",
      "metadata": {
        "id": "N4kyquAc86yl"
      },
      "source": [
        "## BERT Implementation"
      ]
    },
    {
      "cell_type": "code",
      "metadata": {
        "id": "o-FZcUxX7y3d"
      },
      "source": [
        "# downloading the pre-trained BERT model from tfhub\n",
        "bert_preprocess = hub.KerasLayer(\"https://tfhub.dev/tensorflow/bert_en_uncased_preprocess/3\")\n",
        "bert_encoder = hub.KerasLayer(\"https://tfhub.dev/tensorflow/bert_en_uncased_L-12_H-768_A-12/4\")"
      ],
      "execution_count": 8,
      "outputs": []
    },
    {
      "cell_type": "markdown",
      "metadata": {
        "id": "1i9S04be9Sjm"
      },
      "source": [
        "Functional model below."
      ]
    },
    {
      "cell_type": "code",
      "metadata": {
        "id": "lhXGN1Cb7_Gp"
      },
      "source": [
        "# initializing BERT layers\n",
        "text_input = tf.keras.layers.Input(shape=(), dtype=tf.string, name='text') # input layer\n",
        "preprocessed_text = bert_preprocess(text_input)\n",
        "outputs = bert_encoder(preprocessed_text)\n",
        "\n",
        "# initializing NN layers\n",
        "\n",
        "### The Dropout layer randomly sets input units to 0 with a frequency of rate at \n",
        "### each step during training time, which helps prevent overfitting\n",
        "### Source: https://keras.io/api/layers/regularization_layers/dropout/\n",
        "l = tf.keras.layers.Dropout(0.1, name=\"dropout\")(outputs['pooled_output']) # 0.1% neuron is dropped out randomly\n",
        "l = tf.keras.layers.Dense(1, activation='sigmoid', name=\"output\")(l) # 1 neuron tells if the text is misogynous or not (i.e. 1 or 0)\n",
        "\n",
        "model = tf.keras.Model(inputs=[text_input], outputs = [l])"
      ],
      "execution_count": 9,
      "outputs": []
    },
    {
      "cell_type": "code",
      "metadata": {
        "colab": {
          "base_uri": "https://localhost:8080/"
        },
        "id": "gLPKsTwP9Yy_",
        "outputId": "b5c1e5a2-8397-4e5b-a9b0-06309927628f"
      },
      "source": [
        "model.summary()"
      ],
      "execution_count": 10,
      "outputs": [
        {
          "output_type": "stream",
          "name": "stdout",
          "text": [
            "Model: \"model\"\n",
            "__________________________________________________________________________________________________\n",
            " Layer (type)                   Output Shape         Param #     Connected to                     \n",
            "==================================================================================================\n",
            " text (InputLayer)              [(None,)]            0           []                               \n",
            "                                                                                                  \n",
            " keras_layer (KerasLayer)       {'input_word_ids':   0           ['text[0][0]']                   \n",
            "                                (None, 128),                                                      \n",
            "                                 'input_type_ids':                                                \n",
            "                                (None, 128),                                                      \n",
            "                                 'input_mask': (Non                                               \n",
            "                                e, 128)}                                                          \n",
            "                                                                                                  \n",
            " keras_layer_1 (KerasLayer)     {'sequence_output':  109482241   ['keras_layer[0][0]',            \n",
            "                                 (None, 128, 768),                'keras_layer[0][1]',            \n",
            "                                 'pooled_output': (               'keras_layer[0][2]']            \n",
            "                                None, 768),                                                       \n",
            "                                 'encoder_outputs':                                               \n",
            "                                 [(None, 128, 768),                                               \n",
            "                                 (None, 128, 768),                                                \n",
            "                                 (None, 128, 768),                                                \n",
            "                                 (None, 128, 768),                                                \n",
            "                                 (None, 128, 768),                                                \n",
            "                                 (None, 128, 768),                                                \n",
            "                                 (None, 128, 768),                                                \n",
            "                                 (None, 128, 768),                                                \n",
            "                                 (None, 128, 768),                                                \n",
            "                                 (None, 128, 768),                                                \n",
            "                                 (None, 128, 768),                                                \n",
            "                                 (None, 128, 768)],                                               \n",
            "                                 'default': (None,                                                \n",
            "                                768)}                                                             \n",
            "                                                                                                  \n",
            " dropout (Dropout)              (None, 768)          0           ['keras_layer_1[0][13]']         \n",
            "                                                                                                  \n",
            " output (Dense)                 (None, 1)            769         ['dropout[0][0]']                \n",
            "                                                                                                  \n",
            "==================================================================================================\n",
            "Total params: 109,483,010\n",
            "Trainable params: 769\n",
            "Non-trainable params: 109,482,241\n",
            "__________________________________________________________________________________________________\n"
          ]
        }
      ]
    },
    {
      "cell_type": "markdown",
      "metadata": {
        "id": "tIdivxFyO_43"
      },
      "source": [
        "## Model Training"
      ]
    },
    {
      "cell_type": "code",
      "metadata": {
        "id": "tuGLgUCh9aH9"
      },
      "source": [
        "# accuracy metrics\n",
        "METRICS = [\n",
        "      tf.keras.metrics.BinaryAccuracy(name='accuracy'),\n",
        "      tf.keras.metrics.Precision(name='precision'),\n",
        "      tf.keras.metrics.Recall(name='recall')\n",
        "]\n",
        "\n",
        "model.compile(optimizer='adam',\n",
        "              loss='binary_crossentropy',\n",
        "              metrics=METRICS)"
      ],
      "execution_count": 11,
      "outputs": []
    },
    {
      "cell_type": "code",
      "metadata": {
        "colab": {
          "base_uri": "https://localhost:8080/"
        },
        "id": "v6w2jHO-9dvL",
        "outputId": "22171477-fa74-4a67-9db6-241d2810f081"
      },
      "source": [
        "model.fit(X_train, y_train, epochs=50)"
      ],
      "execution_count": 12,
      "outputs": [
        {
          "output_type": "stream",
          "name": "stdout",
          "text": [
            "Epoch 1/50\n",
            "235/235 [==============================] - 161s 631ms/step - loss: 0.6887 - accuracy: 0.5537 - precision: 0.5545 - recall: 0.5469\n",
            "Epoch 2/50\n",
            "235/235 [==============================] - 148s 629ms/step - loss: 0.6667 - accuracy: 0.5933 - precision: 0.5941 - recall: 0.5891\n",
            "Epoch 3/50\n",
            "235/235 [==============================] - 148s 628ms/step - loss: 0.6492 - accuracy: 0.6248 - precision: 0.6262 - recall: 0.6192\n",
            "Epoch 4/50\n",
            "235/235 [==============================] - 147s 627ms/step - loss: 0.6406 - accuracy: 0.6316 - precision: 0.6316 - recall: 0.6315\n",
            "Epoch 5/50\n",
            "235/235 [==============================] - 147s 627ms/step - loss: 0.6304 - accuracy: 0.6508 - precision: 0.6527 - recall: 0.6445\n",
            "Epoch 6/50\n",
            "235/235 [==============================] - 148s 629ms/step - loss: 0.6258 - accuracy: 0.6532 - precision: 0.6544 - recall: 0.6493\n",
            "Epoch 7/50\n",
            "235/235 [==============================] - 148s 629ms/step - loss: 0.6173 - accuracy: 0.6733 - precision: 0.6776 - recall: 0.6613\n",
            "Epoch 8/50\n",
            "235/235 [==============================] - 147s 627ms/step - loss: 0.6102 - accuracy: 0.6728 - precision: 0.6760 - recall: 0.6637\n",
            "Epoch 9/50\n",
            "235/235 [==============================] - 147s 626ms/step - loss: 0.6081 - accuracy: 0.6743 - precision: 0.6772 - recall: 0.6659\n",
            "Epoch 10/50\n",
            "235/235 [==============================] - 147s 625ms/step - loss: 0.6032 - accuracy: 0.6803 - precision: 0.6799 - recall: 0.6813\n",
            "Epoch 11/50\n",
            "235/235 [==============================] - 147s 626ms/step - loss: 0.6050 - accuracy: 0.6741 - precision: 0.6760 - recall: 0.6688\n",
            "Epoch 12/50\n",
            "235/235 [==============================] - 147s 626ms/step - loss: 0.6059 - accuracy: 0.6769 - precision: 0.6812 - recall: 0.6651\n",
            "Epoch 13/50\n",
            "235/235 [==============================] - 147s 626ms/step - loss: 0.6035 - accuracy: 0.6788 - precision: 0.6823 - recall: 0.6691\n",
            "Epoch 14/50\n",
            "235/235 [==============================] - 147s 626ms/step - loss: 0.5996 - accuracy: 0.6839 - precision: 0.6868 - recall: 0.6760\n",
            "Epoch 15/50\n",
            "235/235 [==============================] - 147s 626ms/step - loss: 0.5966 - accuracy: 0.6859 - precision: 0.6894 - recall: 0.6765\n",
            "Epoch 16/50\n",
            "235/235 [==============================] - 147s 624ms/step - loss: 0.5943 - accuracy: 0.6884 - precision: 0.6895 - recall: 0.6856\n",
            "Epoch 17/50\n",
            "235/235 [==============================] - 147s 627ms/step - loss: 0.5951 - accuracy: 0.6884 - precision: 0.6933 - recall: 0.6757\n",
            "Epoch 18/50\n",
            "235/235 [==============================] - 147s 627ms/step - loss: 0.5877 - accuracy: 0.6953 - precision: 0.6959 - recall: 0.6939\n",
            "Epoch 19/50\n",
            "235/235 [==============================] - 147s 627ms/step - loss: 0.5960 - accuracy: 0.6876 - precision: 0.6880 - recall: 0.6867\n",
            "Epoch 20/50\n",
            "235/235 [==============================] - 147s 627ms/step - loss: 0.5957 - accuracy: 0.6869 - precision: 0.6904 - recall: 0.6779\n",
            "Epoch 21/50\n",
            "235/235 [==============================] - 147s 626ms/step - loss: 0.5908 - accuracy: 0.6916 - precision: 0.6960 - recall: 0.6803\n",
            "Epoch 22/50\n",
            "235/235 [==============================] - 148s 628ms/step - loss: 0.5880 - accuracy: 0.6955 - precision: 0.6954 - recall: 0.6957\n",
            "Epoch 23/50\n",
            "235/235 [==============================] - 147s 627ms/step - loss: 0.5902 - accuracy: 0.6916 - precision: 0.6973 - recall: 0.6771\n",
            "Epoch 24/50\n",
            "235/235 [==============================] - 147s 627ms/step - loss: 0.5900 - accuracy: 0.6919 - precision: 0.6928 - recall: 0.6893\n",
            "Epoch 25/50\n",
            "235/235 [==============================] - 148s 629ms/step - loss: 0.5843 - accuracy: 0.6969 - precision: 0.6977 - recall: 0.6949\n",
            "Epoch 26/50\n",
            "235/235 [==============================] - 148s 630ms/step - loss: 0.5814 - accuracy: 0.7009 - precision: 0.7053 - recall: 0.6904\n",
            "Epoch 27/50\n",
            "235/235 [==============================] - 148s 628ms/step - loss: 0.5844 - accuracy: 0.6947 - precision: 0.6978 - recall: 0.6867\n",
            "Epoch 28/50\n",
            "235/235 [==============================] - 147s 627ms/step - loss: 0.5873 - accuracy: 0.6985 - precision: 0.7011 - recall: 0.6923\n",
            "Epoch 29/50\n",
            "235/235 [==============================] - 147s 625ms/step - loss: 0.5838 - accuracy: 0.6969 - precision: 0.7015 - recall: 0.6856\n",
            "Epoch 30/50\n",
            "235/235 [==============================] - 148s 628ms/step - loss: 0.5843 - accuracy: 0.7007 - precision: 0.7004 - recall: 0.7013\n",
            "Epoch 31/50\n",
            "235/235 [==============================] - 149s 635ms/step - loss: 0.5849 - accuracy: 0.7009 - precision: 0.7062 - recall: 0.6883\n",
            "Epoch 32/50\n",
            "235/235 [==============================] - 149s 634ms/step - loss: 0.5794 - accuracy: 0.6985 - precision: 0.7003 - recall: 0.6941\n",
            "Epoch 33/50\n",
            "235/235 [==============================] - 150s 637ms/step - loss: 0.5843 - accuracy: 0.6999 - precision: 0.7015 - recall: 0.6957\n",
            "Epoch 34/50\n",
            "235/235 [==============================] - 150s 636ms/step - loss: 0.5848 - accuracy: 0.7007 - precision: 0.7048 - recall: 0.6907\n",
            "Epoch 35/50\n",
            "235/235 [==============================] - 149s 635ms/step - loss: 0.5803 - accuracy: 0.7037 - precision: 0.7050 - recall: 0.7005\n",
            "Epoch 36/50\n",
            "235/235 [==============================] - 149s 633ms/step - loss: 0.5773 - accuracy: 0.7035 - precision: 0.7084 - recall: 0.6917\n",
            "Epoch 37/50\n",
            "235/235 [==============================] - 147s 626ms/step - loss: 0.5882 - accuracy: 0.6912 - precision: 0.6945 - recall: 0.6827\n",
            "Epoch 38/50\n",
            "235/235 [==============================] - 147s 625ms/step - loss: 0.5892 - accuracy: 0.6952 - precision: 0.6918 - recall: 0.7040\n",
            "Epoch 39/50\n",
            "235/235 [==============================] - 147s 626ms/step - loss: 0.5828 - accuracy: 0.6977 - precision: 0.7022 - recall: 0.6867\n",
            "Epoch 40/50\n",
            "235/235 [==============================] - 147s 626ms/step - loss: 0.5801 - accuracy: 0.6972 - precision: 0.6988 - recall: 0.6931\n",
            "Epoch 41/50\n",
            "235/235 [==============================] - 148s 629ms/step - loss: 0.5842 - accuracy: 0.6988 - precision: 0.7029 - recall: 0.6888\n",
            "Epoch 42/50\n",
            "235/235 [==============================] - 148s 629ms/step - loss: 0.5811 - accuracy: 0.6991 - precision: 0.6997 - recall: 0.6976\n",
            "Epoch 43/50\n",
            "235/235 [==============================] - 148s 631ms/step - loss: 0.5799 - accuracy: 0.6980 - precision: 0.7006 - recall: 0.6915\n",
            "Epoch 44/50\n",
            "235/235 [==============================] - 148s 629ms/step - loss: 0.5785 - accuracy: 0.7048 - precision: 0.7077 - recall: 0.6979\n",
            "Epoch 45/50\n",
            "235/235 [==============================] - 148s 629ms/step - loss: 0.5814 - accuracy: 0.6957 - precision: 0.6969 - recall: 0.6928\n",
            "Epoch 46/50\n",
            "235/235 [==============================] - 146s 623ms/step - loss: 0.5833 - accuracy: 0.6905 - precision: 0.6932 - recall: 0.6837\n",
            "Epoch 47/50\n",
            "235/235 [==============================] - 146s 622ms/step - loss: 0.5846 - accuracy: 0.7024 - precision: 0.7037 - recall: 0.6992\n",
            "Epoch 48/50\n",
            "235/235 [==============================] - 147s 625ms/step - loss: 0.5840 - accuracy: 0.7025 - precision: 0.7060 - recall: 0.6941\n",
            "Epoch 49/50\n",
            "235/235 [==============================] - 147s 626ms/step - loss: 0.5825 - accuracy: 0.6985 - precision: 0.7014 - recall: 0.6915\n",
            "Epoch 50/50\n",
            "235/235 [==============================] - 147s 624ms/step - loss: 0.5786 - accuracy: 0.7007 - precision: 0.7041 - recall: 0.6923\n"
          ]
        },
        {
          "output_type": "execute_result",
          "data": {
            "text/plain": [
              "<keras.callbacks.History at 0x7f89f2fa8810>"
            ]
          },
          "metadata": {},
          "execution_count": 12
        }
      ]
    },
    {
      "cell_type": "code",
      "metadata": {
        "colab": {
          "base_uri": "https://localhost:8080/"
        },
        "id": "Pk-YZSe09hO4",
        "outputId": "4edf97dc-3fbb-47d0-eecc-750bae48d2f0"
      },
      "source": [
        "model.evaluate(X_test, y_test)"
      ],
      "execution_count": 13,
      "outputs": [
        {
          "output_type": "stream",
          "name": "stdout",
          "text": [
            "79/79 [==============================] - 50s 619ms/step - loss: 0.5655 - accuracy: 0.7188 - precision: 0.7145 - recall: 0.7288\n"
          ]
        },
        {
          "output_type": "execute_result",
          "data": {
            "text/plain": [
              "[0.5654698014259338,\n",
              " 0.7188000082969666,\n",
              " 0.7145097851753235,\n",
              " 0.7287999987602234]"
            ]
          },
          "metadata": {},
          "execution_count": 13
        }
      ]
    },
    {
      "cell_type": "code",
      "metadata": {
        "id": "9EikV2b49nN4"
      },
      "source": [
        ""
      ],
      "execution_count": 13,
      "outputs": []
    },
    {
      "cell_type": "code",
      "metadata": {
        "id": "yGxQlYv89xxv"
      },
      "source": [
        ""
      ],
      "execution_count": 13,
      "outputs": []
    }
  ]
}