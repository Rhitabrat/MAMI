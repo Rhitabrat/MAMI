{
  "nbformat": 4,
  "nbformat_minor": 0,
  "metadata": {
    "colab": {
      "name": "overlaid_text_removal.ipynb",
      "provenance": [],
      "collapsed_sections": [],
      "machine_shape": "hm",
      "include_colab_link": true
    },
    "kernelspec": {
      "display_name": "Python 3",
      "name": "python3"
    },
    "language_info": {
      "name": "python"
    },
    "accelerator": "GPU"
  },
  "cells": [
    {
      "cell_type": "markdown",
      "metadata": {
        "id": "view-in-github",
        "colab_type": "text"
      },
      "source": [
        "<a href=\"https://colab.research.google.com/github/TeamMAMI/MAMI/blob/overlaid_text_removal/overlaid_text_removal.ipynb\" target=\"_parent\"><img src=\"https://colab.research.google.com/assets/colab-badge.svg\" alt=\"Open In Colab\"/></a>"
      ]
    },
    {
      "cell_type": "markdown",
      "metadata": {
        "id": "UObV5-7s3q1n"
      },
      "source": [
        "https://pasaentuciudad.com.mx/remove-text-from-images-using-cv2-and-keras-ocr/"
      ]
    },
    {
      "cell_type": "markdown",
      "metadata": {
        "id": "uATnJSzGuyD9"
      },
      "source": [
        "#Don't run the last code block until you've checked which directory you're in"
      ]
    },
    {
      "cell_type": "code",
      "metadata": {
        "colab": {
          "base_uri": "https://localhost:8080/"
        },
        "id": "hvssAw8qWBl2",
        "outputId": "5bfd2062-8c79-4ffd-b8a1-721f537c84c6"
      },
      "source": [
        "from google.colab import drive\n",
        "drive.mount('/content/drive')"
      ],
      "execution_count": 1,
      "outputs": [
        {
          "output_type": "stream",
          "name": "stdout",
          "text": [
            "Mounted at /content/drive\n"
          ]
        }
      ]
    },
    {
      "cell_type": "code",
      "metadata": {
        "id": "lWeUNy8z0rl7"
      },
      "source": [
        "%%capture\n",
        "!pip install keras-ocr"
      ],
      "execution_count": null,
      "outputs": []
    },
    {
      "cell_type": "code",
      "metadata": {
        "id": "tnb1mcyx59Rx"
      },
      "source": [
        "import cv2\n",
        "import math\n",
        "import glob\n",
        "import keras_ocr\n",
        "import os, os.path\n",
        "import numpy as np\n",
        "import pandas as pd\n",
        "from pandas import read_csv\n",
        "from tqdm import tqdm\n",
        "from PIL import Image as pil_image\n",
        "from numpy import asarray\n",
        "import matplotlib.pyplot as plt\n",
        "from IPython.display import Image as ip_image"
      ],
      "execution_count": 3,
      "outputs": []
    },
    {
      "cell_type": "markdown",
      "metadata": {
        "id": "lMcVuRhkQYyu"
      },
      "source": [
        "Define the midpoint and inpaint text functions"
      ]
    },
    {
      "cell_type": "code",
      "metadata": {
        "id": "BS0rE06H5RKw"
      },
      "source": [
        "def midpoint(x1, y1, x2, y2):\n",
        "    x_mid = int((x1 + x2)/2)\n",
        "    y_mid = int((y1 + y2)/2)\n",
        "    return (x_mid, y_mid)"
      ],
      "execution_count": 8,
      "outputs": []
    },
    {
      "cell_type": "code",
      "metadata": {
        "id": "0W3WwqEB6ITA"
      },
      "source": [
        " def inpaint_text(img_path, pipeline):\n",
        "    # read image\n",
        "    img = img_path\n",
        "\n",
        "    # generate (word, box) tuples \n",
        "    prediction_groups = pipeline.recognize([img])\n",
        "    mask = np.zeros(img.shape[:2], dtype=\"uint8\")\n",
        "    for box in tqdm(prediction_groups[0]):\n",
        "        x0, y0 = box[1][0]\n",
        "        x1, y1 = box[1][1] \n",
        "        x2, y2 = box[1][2]\n",
        "        x3, y3 = box[1][3] \n",
        "        \n",
        "        x_mid0, y_mid0 = midpoint(x1, y1, x2, y2)\n",
        "        x_mid1, y_mi1 = midpoint(x0, y0, x3, y3)\n",
        "        \n",
        "        thickness = int(math.sqrt( (x2 - x1)**2 + (y2 - y1)**2 ))\n",
        "        \n",
        "        cv2.line(mask, (x_mid0, y_mid0), (x_mid1, y_mi1), 255,    \n",
        "        thickness)\n",
        "        img = cv2.inpaint(img, mask, 7, cv2.INPAINT_NS)\n",
        "\n",
        "        plt.imshow(img)\n",
        "                 \n",
        "    return(img)"
      ],
      "execution_count": 10,
      "outputs": []
    },
    {
      "cell_type": "markdown",
      "metadata": {
        "id": "0-UHZDsrsUpq"
      },
      "source": [
        "make the pipeline"
      ]
    },
    {
      "cell_type": "code",
      "metadata": {
        "id": "iVJU2_7r6Dxk"
      },
      "source": [
        "pipeline = keras_ocr.pipeline.Pipeline()"
      ],
      "execution_count": null,
      "outputs": []
    },
    {
      "cell_type": "markdown",
      "metadata": {
        "id": "24VtkhufPvwh"
      },
      "source": [
        "make a list of all the image names in the trial set"
      ]
    },
    {
      "cell_type": "code",
      "metadata": {
        "id": "eIiAHlBVOlRW"
      },
      "source": [
        "# df = pd.DataFrame(data=read_csv('trial.csv', sep='\\t'))\n",
        "\n",
        "# trial_images = list(set(df[\"file_name\"].tolist()))\n",
        "# print(sorted(trial_images))\n",
        "# print(len(trial_images))"
      ],
      "execution_count": null,
      "outputs": []
    },
    {
      "cell_type": "markdown",
      "metadata": {
        "id": "hSWgt9YMvxhK"
      },
      "source": [
        "...or do this for the training set"
      ]
    },
    {
      "cell_type": "code",
      "metadata": {
        "id": "5J_nSxylwA_0"
      },
      "source": [
        "%cd TRAIN \n",
        "!pwd\n",
        "!ls"
      ],
      "execution_count": null,
      "outputs": []
    },
    {
      "cell_type": "code",
      "metadata": {
        "id": "kFJlENyXvtBs"
      },
      "source": [
        "\n",
        "df = pd.DataFrame(data=read_csv('training.csv', sep='\\t'))\n",
        "\n",
        "train_images = list(set(df[\"file_name\"].tolist()))\n",
        "print(sorted(train_images))\n",
        "print(len(train_images))"
      ],
      "execution_count": null,
      "outputs": []
    },
    {
      "cell_type": "code",
      "metadata": {
        "id": "tvPSBeDnwaGa"
      },
      "source": [
        "%mkdir Cleaned_Images"
      ],
      "execution_count": 33,
      "outputs": []
    },
    {
      "cell_type": "code",
      "metadata": {
        "id": "yBc5n8c7LU-K"
      },
      "source": [
        "# %cd drive/Shareddrives/team_MAMI/MAMI/TRIAL\n",
        "# !pwd\n",
        "# !ls"
      ],
      "execution_count": null,
      "outputs": []
    },
    {
      "cell_type": "markdown",
      "metadata": {
        "id": "-X_9WqmxsBjl"
      },
      "source": [
        "#Pause here and make sure you're in the right directory"
      ]
    },
    {
      "cell_type": "code",
      "metadata": {
        "id": "kugbk3PqdFjE"
      },
      "source": [
        "!pwd\n",
        "!ls"
      ],
      "execution_count": null,
      "outputs": []
    },
    {
      "cell_type": "markdown",
      "metadata": {
        "id": "oQrZ1VhheAUN"
      },
      "source": [
        "Loop through the list of image names, opening, processing, and saving as pngs"
      ]
    },
    {
      "cell_type": "code",
      "metadata": {
        "id": "PvGMTFJRm1Vz"
      },
      "source": [
        "# trial_images_path = \"./Images/\"\n",
        "# for img in tqdm(trial_images):\n",
        "  # image = asarray(cv2.imread(trial_images_path + img))\n",
        "  # hold = inpaint_text(image, pipeline)\n",
        "  # img_num = img.split('.')[0]\n",
        "  # cv2.imwrite(f'/content/drive/Shareddrives/team_MAMI/MAMI/TRIAL/Clean_images/{img_num}.png',hold)"
      ],
      "execution_count": null,
      "outputs": []
    },
    {
      "cell_type": "markdown",
      "metadata": {
        "id": "KOPQ5FlvwnV8"
      },
      "source": [
        "... or do this for the training images"
      ]
    },
    {
      "cell_type": "code",
      "metadata": {
        "colab": {
          "base_uri": "https://localhost:8080/"
        },
        "id": "nQF35AXGwlny",
        "outputId": "be6bc658-436b-4f8e-cf44-27c77ebb5ae6"
      },
      "source": [
        "train_images_path = \"./Images/\"\n",
        "for img in tqdm(train_images):\n",
        "  image = asarray(cv2.imread(train_images_path + img))\n",
        "  hold = inpaint_text(image, pipeline)\n",
        "  img_num = img.split('.')[0]\n",
        "  cv2.imwrite(f'/content/drive/Shareddrives/team_MAMI/MAMI/TRAIN/Cleaned_Images/{img_num}.png',hold)"
      ],
      "execution_count": null,
      "outputs": [
        {
          "output_type": "stream",
          "name": "stderr",
          "text": [
            "  0%|          | 26/10000 [03:26<16:05:57,  5.81s/it]"
          ]
        }
      ]
    }
  ]
}