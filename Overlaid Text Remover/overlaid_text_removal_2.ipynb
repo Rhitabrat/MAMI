{
  "cells": [
    {
      "cell_type": "markdown",
      "metadata": {
        "colab_type": "text",
        "id": "view-in-github"
      },
      "source": [
        "<a href=\"https://colab.research.google.com/github/TeamMAMI/MAMI/blob/overlaid_text_removal/overlaid_text_removal.ipynb\" target=\"_parent\"><img src=\"https://colab.research.google.com/assets/colab-badge.svg\" alt=\"Open In Colab\"/></a>"
      ]
    },
    {
      "cell_type": "markdown",
      "metadata": {
        "id": "UObV5-7s3q1n"
      },
      "source": [
        "https://pasaentuciudad.com.mx/remove-text-from-images-using-cv2-and-keras-ocr/"
      ]
    },
    {
      "cell_type": "markdown",
      "metadata": {
        "id": "uATnJSzGuyD9"
      },
      "source": [
        "Don't run the last code block until you've checked which directory you're in"
      ]
    },
    {
      "cell_type": "code",
      "execution_count": 1,
      "metadata": {
        "colab": {
          "base_uri": "https://localhost:8080/"
        },
        "id": "hvssAw8qWBl2",
        "outputId": "9cb28c50-0480-4c47-edaa-7c7532f97c28"
      },
      "outputs": [
        {
          "name": "stdout",
          "output_type": "stream",
          "text": [
            "Mounted at /content/drive\n"
          ]
        }
      ],
      "source": [
        "from google.colab import drive\n",
        "drive.mount('/content/drive')"
      ]
    },
    {
      "cell_type": "code",
      "execution_count": 2,
      "metadata": {
        "id": "lWeUNy8z0rl7"
      },
      "outputs": [],
      "source": [
        "%%capture\n",
        "!pip install keras-ocr"
      ]
    },
    {
      "cell_type": "code",
      "execution_count": 3,
      "metadata": {
        "id": "tnb1mcyx59Rx"
      },
      "outputs": [],
      "source": [
        "import cv2\n",
        "import math\n",
        "import glob\n",
        "import keras_ocr\n",
        "import os, os.path\n",
        "import numpy as np\n",
        "import pandas as pd\n",
        "from pandas import read_csv\n",
        "from tqdm import tqdm\n",
        "from PIL import Image as pil_image\n",
        "from numpy import asarray\n",
        "import matplotlib.pyplot as plt\n",
        "from IPython.display import Image as ip_image"
      ]
    },
    {
      "cell_type": "markdown",
      "metadata": {
        "id": "lMcVuRhkQYyu"
      },
      "source": [
        "Define the midpoint and inpaint text functions"
      ]
    },
    {
      "cell_type": "code",
      "execution_count": 4,
      "metadata": {
        "id": "BS0rE06H5RKw"
      },
      "outputs": [],
      "source": [
        "def midpoint(x1, y1, x2, y2):\n",
        "    x_mid = int((x1 + x2)/2)\n",
        "    y_mid = int((y1 + y2)/2)\n",
        "    return (x_mid, y_mid)"
      ]
    },
    {
      "cell_type": "code",
      "execution_count": 5,
      "metadata": {
        "id": "0W3WwqEB6ITA"
      },
      "outputs": [],
      "source": [
        " def inpaint_text(img_path, pipeline):\n",
        "    # read image\n",
        "    img = img_path\n",
        "\n",
        "    # generate (word, box) tuples \n",
        "    prediction_groups = pipeline.recognize([img])\n",
        "    mask = np.zeros(img.shape[:2], dtype=\"uint8\")\n",
        "    for box in tqdm(prediction_groups[0]):\n",
        "        x0, y0 = box[1][0]\n",
        "        x1, y1 = box[1][1] \n",
        "        x2, y2 = box[1][2]\n",
        "        x3, y3 = box[1][3] \n",
        "        \n",
        "        x_mid0, y_mid0 = midpoint(x1, y1, x2, y2)\n",
        "        x_mid1, y_mi1 = midpoint(x0, y0, x3, y3)\n",
        "        \n",
        "        thickness = int(math.sqrt( (x2 - x1)**2 + (y2 - y1)**2 ))\n",
        "        \n",
        "        cv2.line(mask, (x_mid0, y_mid0), (x_mid1, y_mi1), 255,    \n",
        "        thickness)\n",
        "        img = cv2.inpaint(img, mask, 7, cv2.INPAINT_NS)\n",
        "\n",
        "    return(img)"
      ]
    },
    {
      "cell_type": "markdown",
      "metadata": {
        "id": "0-UHZDsrsUpq"
      },
      "source": [
        "make the pipeline"
      ]
    },
    {
      "cell_type": "code",
      "execution_count": 6,
      "metadata": {
        "colab": {
          "base_uri": "https://localhost:8080/"
        },
        "id": "iVJU2_7r6Dxk",
        "outputId": "19feb561-bf3b-42a2-d6ed-b0d5f8128823"
      },
      "outputs": [
        {
          "name": "stdout",
          "output_type": "stream",
          "text": [
            "Looking for /root/.keras-ocr/craft_mlt_25k.h5\n",
            "Downloading /root/.keras-ocr/craft_mlt_25k.h5\n",
            "Looking for /root/.keras-ocr/crnn_kurapan.h5\n",
            "Downloading /root/.keras-ocr/crnn_kurapan.h5\n"
          ]
        }
      ],
      "source": [
        "pipeline = keras_ocr.pipeline.Pipeline()"
      ]
    },
    {
      "cell_type": "markdown",
      "metadata": {
        "id": "24VtkhufPvwh"
      },
      "source": [
        "make a list of all the image names in the trial set"
      ]
    },
    {
      "cell_type": "code",
      "execution_count": 7,
      "metadata": {
        "id": "eIiAHlBVOlRW"
      },
      "outputs": [],
      "source": [
        "# df = pd.DataFrame(data=read_csv('trial.csv', sep='\\t'))\n",
        "\n",
        "# trial_images = list(set(df[\"file_name\"].tolist()))\n",
        "# print(sorted(trial_images))\n",
        "# print(len(trial_images))"
      ]
    },
    {
      "cell_type": "markdown",
      "metadata": {
        "id": "hSWgt9YMvxhK"
      },
      "source": [
        "...or do this for the training set"
      ]
    },
    {
      "cell_type": "code",
      "execution_count": 8,
      "metadata": {
        "colab": {
          "base_uri": "https://localhost:8080/"
        },
        "id": "5J_nSxylwA_0",
        "outputId": "2343189a-5003-44bc-f8a9-8ad9fc044021"
      },
      "outputs": [
        {
          "name": "stdout",
          "output_type": "stream",
          "text": [
            "/content/drive/Shareddrives/team_MAMI/MAMI/TRAIN\n",
            "/content/drive/Shareddrives/team_MAMI/MAMI/TRAIN\n",
            "Cleaned_Images\tImages\ttraining.csv\n"
          ]
        }
      ],
      "source": [
        "%cd drive/Shareddrives/team_MAMI/MAMI/TRAIN \n",
        "!pwd\n",
        "!ls"
      ]
    },
    {
      "cell_type": "code",
      "execution_count": null,
      "metadata": {
        "colab": {
          "base_uri": "https://localhost:8080/"
        },
        "id": "kFJlENyXvtBs",
        "outputId": "1105a109-7381-4e8f-974c-de3b94f606eb"
      },
      "outputs": [],
      "source": [
        "\n",
        "df = pd.DataFrame(data=read_csv('training.csv', sep='\\t'))\n",
        "\n",
        "train_images = list(set(df[\"file_name\"].tolist()))\n",
        "print(sorted(train_images))\n",
        "print(len(train_images))"
      ]
    },
    {
      "cell_type": "code",
      "execution_count": 10,
      "metadata": {
        "id": "tvPSBeDnwaGa"
      },
      "outputs": [],
      "source": [
        "# %mkdir Cleaned_Images"
      ]
    },
    {
      "cell_type": "code",
      "execution_count": 11,
      "metadata": {
        "colab": {
          "base_uri": "https://localhost:8080/"
        },
        "id": "yBc5n8c7LU-K",
        "outputId": "72851db3-4276-4a64-b849-3ea5aebfd556"
      },
      "outputs": [
        {
          "name": "stdout",
          "output_type": "stream",
          "text": [
            "[Errno 2] No such file or directory: 'drive/Shareddrives/team_MAMI/MAMI/TRIAL'\n",
            "/content/drive/Shareddrives/team_MAMI/MAMI/TRAIN\n",
            "/content/drive/Shareddrives/team_MAMI/MAMI/TRAIN\n",
            "Cleaned_Images\tImages\ttraining.csv\n"
          ]
        }
      ],
      "source": [
        "%cd drive/Shareddrives/team_MAMI/MAMI/TRIAL\n",
        "!pwd\n",
        "!ls"
      ]
    },
    {
      "cell_type": "markdown",
      "metadata": {
        "id": "-X_9WqmxsBjl"
      },
      "source": [
        "Pause here and make sure you're in the right directory"
      ]
    },
    {
      "cell_type": "code",
      "execution_count": 12,
      "metadata": {
        "colab": {
          "base_uri": "https://localhost:8080/"
        },
        "id": "kugbk3PqdFjE",
        "outputId": "aa8eac8a-cc23-4c16-ea1c-85477b76658f"
      },
      "outputs": [
        {
          "name": "stdout",
          "output_type": "stream",
          "text": [
            "/content/drive/Shareddrives/team_MAMI/MAMI/TRAIN\n",
            "Cleaned_Images\tImages\ttraining.csv\n"
          ]
        }
      ],
      "source": [
        "!pwd\n",
        "!ls"
      ]
    },
    {
      "cell_type": "markdown",
      "metadata": {
        "id": "oQrZ1VhheAUN"
      },
      "source": [
        "Loop through the list of image names, opening, processing, and saving as pngs"
      ]
    },
    {
      "cell_type": "code",
      "execution_count": 13,
      "metadata": {
        "id": "PvGMTFJRm1Vz"
      },
      "outputs": [],
      "source": [
        "# trial_images_path = \"./Images/\"\n",
        "# for img in tqdm(trial_images):\n",
        "  # image = asarray(cv2.imread(trial_images_path + img))\n",
        "  # hold = inpaint_text(image, pipeline)\n",
        "  # img_num = img.split('.')[0]\n",
        "  # cv2.imwrite(f'/content/drive/Shareddrives/team_MAMI/MAMI/TRIAL/Clean_images/{img_num}.png',hold)"
      ]
    },
    {
      "cell_type": "markdown",
      "metadata": {
        "id": "KOPQ5FlvwnV8"
      },
      "source": [
        "... or do this for the training images"
      ]
    },
    {
      "cell_type": "markdown",
      "metadata": {
        "id": "wb-7Nhsg5kHy"
      },
      "source": [
        "but first get a list of the unprocessed images"
      ]
    },
    {
      "cell_type": "code",
      "execution_count": 14,
      "metadata": {
        "colab": {
          "base_uri": "https://localhost:8080/"
        },
        "id": "NEC8EmW-pz6f",
        "outputId": "8617843d-efc7-4187-bc56-3b36324e6fa4"
      },
      "outputs": [
        {
          "name": "stdout",
          "output_type": "stream",
          "text": [
            "/content/drive/Shareddrives/team_MAMI/MAMI/TRAIN/Cleaned_Images\n",
            "/content/drive/Shareddrives/team_MAMI/MAMI/TRAIN/Cleaned_Images\n"
          ]
        }
      ],
      "source": [
        "%cd Cleaned_Images\n",
        "!pwd"
      ]
    },
    {
      "cell_type": "code",
      "execution_count": 16,
      "metadata": {
        "colab": {
          "base_uri": "https://localhost:8080/"
        },
        "id": "oqbXUDIHVjtY",
        "outputId": "fadc118c-3c57-4859-cf72-3b7a3efa59e6"
      },
      "outputs": [
        {
          "name": "stdout",
          "output_type": "stream",
          "text": [
            "10000\n"
          ]
        }
      ],
      "source": [
        "cleaned_images = os.listdir()\n",
        "print(len(cleaned_images))"
      ]
    },
    {
      "cell_type": "code",
      "execution_count": null,
      "metadata": {
        "colab": {
          "base_uri": "https://localhost:8080/"
        },
        "id": "rmlGoQHGrzoF",
        "outputId": "88f49bcc-5b9c-45b7-b1ba-3ce721d006c3"
      },
      "outputs": [],
      "source": [
        "train_nums = [name.split('.')[0] for name in train_images]\n",
        "print(train_nums)\n",
        "print(len(train_nums))\n",
        "print(len(train_images))\n",
        "cleaned_nums = [name.split('.')[0] for name in cleaned_images]\n",
        "print(cleaned_nums)\n",
        "print(len(cleaned_nums))\n",
        "print(len(cleaned_images))"
      ]
    },
    {
      "cell_type": "code",
      "execution_count": 18,
      "metadata": {
        "colab": {
          "base_uri": "https://localhost:8080/"
        },
        "id": "qhTVoByzp-Fg",
        "outputId": "8d1daefc-c174-48ad-9b44-b207da3d2611"
      },
      "outputs": [
        {
          "name": "stdout",
          "output_type": "stream",
          "text": [
            "0\n"
          ]
        }
      ],
      "source": [
        "unprocessed = list(set(train_nums) - set(cleaned_nums))\n",
        "\n",
        "print(len(unprocessed))"
      ]
    },
    {
      "cell_type": "code",
      "execution_count": null,
      "metadata": {
        "id": "GpwEvdvSuaqL"
      },
      "outputs": [],
      "source": [
        "%cd ..\n",
        "!pwd\n",
        "!ls"
      ]
    },
    {
      "cell_type": "code",
      "execution_count": null,
      "metadata": {
        "id": "nQF35AXGwlny"
      },
      "outputs": [],
      "source": [
        "train_images_path = \"./Images/\"\n",
        "for img in tqdm(unprocessed):\n",
        "  image = asarray(cv2.imread(train_images_path + img + '.jpg'))\n",
        "  hold = inpaint_text(image, pipeline)\n",
        "  # img_num = img.split('.')[0]\n",
        "  cv2.imwrite(f'/content/drive/Shareddrives/team_MAMI/MAMI/TRAIN/Cleaned_Images/{img}.png',hold)"
      ]
    }
  ],
  "metadata": {
    "accelerator": "GPU",
    "colab": {
      "collapsed_sections": [],
      "include_colab_link": true,
      "machine_shape": "hm",
      "name": "overlaid_text_removal.ipynb",
      "provenance": []
    },
    "kernelspec": {
      "display_name": "Python 3",
      "name": "python3"
    },
    "language_info": {
      "name": "python"
    }
  },
  "nbformat": 4,
  "nbformat_minor": 0
}
