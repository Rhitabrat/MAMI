{
  "cells": [
    {
      "cell_type": "markdown",
      "metadata": {
        "id": "view-in-github",
        "colab_type": "text"
      },
      "source": [
        "<a href=\"https://colab.research.google.com/github/TeamMAMI/MAMI/blob/main/Baselines/split_data.ipynb\" target=\"_parent\"><img src=\"https://colab.research.google.com/assets/colab-badge.svg\" alt=\"Open In Colab\"/></a>"
      ]
    },
    {
      "cell_type": "markdown",
      "metadata": {
        "id": "6BbjQWn6iZYY"
      },
      "source": [
        "Generate train and test files for temporary training and testing\n",
        "\n",
        "\n",
        "\n",
        "\n",
        "\n"
      ]
    },
    {
      "cell_type": "code",
      "source": [
        "from google.colab import drive\n",
        "drive._mount('/content/drive')"
      ],
      "metadata": {
        "id": "EDoH6WMOibv9",
        "outputId": "c1553550-a0d0-448a-cfbd-d8bd733665f9",
        "colab": {
          "base_uri": "https://localhost:8080/"
        }
      },
      "execution_count": 1,
      "outputs": [
        {
          "output_type": "stream",
          "name": "stdout",
          "text": [
            "Mounted at /content/drive\n"
          ]
        }
      ]
    },
    {
      "cell_type": "code",
      "source": [
        "import pandas as pd\n",
        "from sklearn.model_selection import train_test_split"
      ],
      "metadata": {
        "id": "Zu6C9KpUiz6Z"
      },
      "execution_count": 4,
      "outputs": []
    },
    {
      "cell_type": "code",
      "source": [
        "csv_path_train = '/content/drive/Shareddrives/team_MAMI/MAMI/TRAIN/CSVs/training_original.csv'\n",
        "entire_df = pd.read_csv(csv_path_train, usecols=['file_name', 'misogynous', 'Text Transcription'], sep='\\t')"
      ],
      "metadata": {
        "id": "AeKrfLOjiePM"
      },
      "execution_count": 8,
      "outputs": []
    },
    {
      "cell_type": "code",
      "source": [
        "# splitting the data into train and test set\n",
        "train_df, test_df = train_test_split(entire_df, stratify=entire_df['misogynous'], test_size=0.30)"
      ],
      "metadata": {
        "id": "qbtaPWt4it3l"
      },
      "execution_count": 9,
      "outputs": []
    },
    {
      "cell_type": "code",
      "source": [
        "# save the train and test data to different files\n",
        "\n",
        "train_df.to_csv(\"/content/drive/Shareddrives/team_MAMI/MAMI/TRAIN/Temporary/train.csv\", index=False)\n",
        "test_df.to_csv(\"/content/drive/Shareddrives/team_MAMI/MAMI/TRAIN/Temporary/test.csv\", index=False)"
      ],
      "metadata": {
        "id": "XtSnD6_6i9Od"
      },
      "execution_count": 10,
      "outputs": []
    },
    {
      "cell_type": "code",
      "source": [
        ""
      ],
      "metadata": {
        "id": "Sg4Z_0f1jABy"
      },
      "execution_count": null,
      "outputs": []
    }
  ],
  "metadata": {
    "language_info": {
      "name": "python"
    },
    "orig_nbformat": 4,
    "colab": {
      "name": "split_data.ipynb",
      "provenance": [],
      "include_colab_link": true
    },
    "kernelspec": {
      "name": "python3",
      "display_name": "Python 3"
    }
  },
  "nbformat": 4,
  "nbformat_minor": 0
}